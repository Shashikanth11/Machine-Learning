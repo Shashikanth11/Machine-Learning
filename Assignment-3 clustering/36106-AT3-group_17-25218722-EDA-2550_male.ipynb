{
 "cells": [
  {
   "cell_type": "markdown",
   "metadata": {
    "cell_id": "9c763f9ed53640449a84f5578549a238",
    "deepnote_cell_type": "markdown",
    "id": "uQ6wc2HE0pke"
   },
   "source": [
    "# **Experiment Notebook**\n",
    "\n"
   ]
  },
  {
   "cell_type": "code",
   "execution_count": 60,
   "metadata": {
    "cell_id": "8018eead124043b4a42d29a73ecef946",
    "deepnote_cell_type": "code"
   },
   "outputs": [],
   "source": [
    "import warnings\n",
    "warnings.simplefilter(action='ignore', category=FutureWarning)"
   ]
  },
  {
   "cell_type": "markdown",
   "metadata": {
    "cell_id": "e3a69023f73041469d8698fe4d284c2c",
    "deepnote_cell_type": "separator"
   },
   "source": [
    "<hr>"
   ]
  },
  {
   "cell_type": "markdown",
   "metadata": {
    "cell_id": "c3c59cffcef04709aea78b2d810a51cd",
    "deepnote_cell_type": "markdown",
    "id": "tQgxLRrvjiJb"
   },
   "source": [
    "## A. Project\n"
   ]
  },
  {
   "cell_type": "code",
   "execution_count": 61,
   "metadata": {
    "cell_id": "7ec4ae1b01ac42989ee3165ca8f7f3e8",
    "deepnote_cell_type": "input-text",
    "deepnote_input_label": "Student Name",
    "deepnote_to_be_reexecuted": false,
    "deepnote_variable_name": "group_id",
    "deepnote_variable_value": "<fill_this>",
    "execution_context_id": "3c13f934-469a-4969-a4fc-74048c0a4a84",
    "execution_millis": 0,
    "execution_start": 1727686719050,
    "source_hash": null
   },
   "outputs": [],
   "source": [
    "group_id = 'Group_17'"
   ]
  },
  {
   "cell_type": "code",
   "execution_count": 62,
   "metadata": {
    "allow_embed": false,
    "cell_id": "d161bacc9a094602ad583998c17c7597",
    "deepnote_cell_type": "input-text",
    "deepnote_input_label": "Student Name",
    "deepnote_variable_name": "student_name",
    "deepnote_variable_value": "<fill_this>",
    "execution_context_id": "3c13f934-469a-4969-a4fc-74048c0a4a84",
    "execution_millis": 0,
    "execution_start": 1727687181182,
    "source_hash": null
   },
   "outputs": [],
   "source": [
    "student_name = 'Shashikanth Senthil Kumar'"
   ]
  },
  {
   "cell_type": "code",
   "execution_count": 63,
   "metadata": {
    "allow_embed": false,
    "cell_id": "ed45ced522dc4910a93b72da7d26c0c9",
    "deepnote_cell_type": "input-text",
    "deepnote_input_label": "Student Name",
    "deepnote_variable_name": "student_id",
    "deepnote_variable_value": "<fill_this>",
    "execution_context_id": "3c13f934-469a-4969-a4fc-74048c0a4a84",
    "execution_millis": 0,
    "execution_start": 1727687188230,
    "source_hash": null
   },
   "outputs": [],
   "source": [
    "student_id = '25218722'"
   ]
  },
  {
   "cell_type": "markdown",
   "metadata": {
    "cell_id": "938e94aeb5f941988ae316e9d51ff69d",
    "deepnote_cell_type": "separator"
   },
   "source": [
    "<hr>"
   ]
  },
  {
   "cell_type": "markdown",
   "metadata": {
    "cell_id": "51797e28d6b14b6ab0aea3fed43d60ab",
    "deepnote_cell_type": "separator"
   },
   "source": [
    "<hr>"
   ]
  },
  {
   "cell_type": "markdown",
   "metadata": {
    "cell_id": "33301622ed0e437fa8ddf582a2466a68",
    "deepnote_cell_type": "markdown",
    "id": "tQgxLRrvjiJb"
   },
   "source": [
    "## B. Data Understanding\n"
   ]
  },
  {
   "cell_type": "markdown",
   "metadata": {
    "allow_embed": false,
    "cell_id": "5eb30d2e0498498f83e72686c9ea11eb",
    "deepnote_cell_type": "input-textarea",
    "deepnote_to_be_reexecuted": false,
    "deepnote_variable_name": "data_understanding_executive_summary",
    "deepnote_variable_value": "<fill_this>",
    "execution_millis": 107,
    "execution_start": 1719267654027,
    "source_hash": null
   },
   "source": [
    "data_understanding_executive_summary:\n",
    "\n",
    "The dataset combines transaction data from 10 CSV files for rural and urban male adults, merged into a single dataset with 232,877 rows and 10 features. It includes transaction details such as amount (amt), category (category), merchant location, and fraud indicator (is_fraud).\n",
    "\n",
    "* Key Insights:\n",
    "    * Spending Behavior Indicator: The amt variable reflects transaction amounts, which can be used to distinguish high spenders from low spenders. By clustering based on transaction amounts, frequency (merchant_freq), and other behavioral features, it’s possible to identify distinct spending habits, such as frequent small transactions versus occasional large ones. This segmentation can help in targeting marketing efforts and understanding customer spending profiles.\n",
    "    * Transaction Amount (amt):The transaction amount ranges widely, with a high standard deviation (175.84) and maximum values reaching 25,159.92, indicating outliers. Significant skewness in amt may require transformation, such as a log transformation, to normalize the data for accurate modeling.\n",
    "    * Categories:There are 14 transaction categories, with grocery and transport being the most common, which suggests a prevalence of essential spending.\n",
    "* Considerations:\n",
    "    * Spending-Amount Relationship: High-spending customers tend to have larger transaction amounts compared to low-spending customers. This suggests that transaction amount is a key feature for distinguishing spending habits, making it useful for clustering customers into high and low spenders.\n",
    "    * Data Preprocessing Needs: Outlier treatment, particularly for high-value transactions, is essential to reduce skewness and improve model reliability. Transaction amount (amt) may benefit from scaling or transformation due to its high variability.\n",
    "* Issues Found:\n",
    "    * Outliers in Transaction Amount: Large outliers could skew averages and other statistical measures, requiring preprocessing steps for accurate results.\n",
    "    * Multiple Datasets and Empty Files: Initial segmentation into multiple datasets, some of which were empty, presented merging challenges but was resolved by consolidating the non-empty files.\n",
    "    * Class Imbalance in Spending Habits: There may be an imbalance between high-spending and low-spending customers, which could impact clustering results. If one spending group is much smaller than the other, techniques like adjusting cluster sizes or exploring additional features might be needed to ensure meaningful segmentation."
   ]
  },
  {
   "cell_type": "markdown",
   "metadata": {
    "cell_id": "08c72f74face4c7888a06176d2a1b888",
    "deepnote_cell_type": "markdown",
    "id": "KFVpE17Ahezu"
   },
   "source": [
    "### B.0 Import Packages"
   ]
  },
  {
   "cell_type": "code",
   "execution_count": 64,
   "metadata": {
    "cell_id": "a565f13806dd49cd96080a21301c97e8",
    "deepnote_cell_type": "code",
    "deepnote_to_be_reexecuted": false,
    "execution_millis": 92,
    "execution_start": 1719315727790,
    "id": "X3l_Iffyhezx",
    "source_hash": null
   },
   "outputs": [],
   "source": [
    "# Pandas for data handling\n",
    "import pandas as pd\n",
    "\n",
    "# Altair for plotting\n",
    "import altair as alt\n",
    "\n",
    "# NumPy for numerical computations\n",
    "import numpy as np\n",
    "\n",
    "# Matplotlib for basic plotting\n",
    "import matplotlib.pyplot as plt\n",
    "\n",
    "# Ensures that Matplotlib plots are displayed inline in the notebook\n",
    "%matplotlib inline\n",
    "\n",
    "# Seaborn for statistical data visualization\n",
    "import seaborn as sns"
   ]
  },
  {
   "cell_type": "markdown",
   "metadata": {
    "cell_id": "c1a541a626fd43b697f57ea590e31a43",
    "deepnote_cell_type": "separator"
   },
   "source": [
    "<hr>"
   ]
  },
  {
   "cell_type": "markdown",
   "metadata": {
    "cell_id": "fa21514d39474b63b8dd29ca79854fb3",
    "deepnote_cell_type": "markdown",
    "id": "_NCwQQFkU3v5"
   },
   "source": [
    "### B.1   Load Dataset\n",
    "\n",
    "adults_2550_male.zip:\n",
    "https://drive.google.com/file/d/1FOcz1QFV1CaoV2t5dJup5z8N7Uxgr2z9/view?usp=drive_link"
   ]
  },
  {
   "cell_type": "code",
   "execution_count": 65,
   "metadata": {
    "cell_id": "07a7faa619394b60aecc4132c42d3162",
    "deepnote_cell_type": "code"
   },
   "outputs": [],
   "source": [
    "# Load the datasets\n",
    "df0=pd.read_csv('adults_2550_male/adults_2550_male_rural/adults_2550_male_rural_000-199.csv',sep='|')\n",
    "df1=pd.read_csv('adults_2550_male/adults_2550_male_rural/adults_2550_male_rural_200-399.csv',sep='|')\n",
    "df2=pd.read_csv('adults_2550_male/adults_2550_male_rural/adults_2550_male_rural_400-599.csv',sep='|') \n",
    "df3=pd.read_csv('adults_2550_male/adults_2550_male_rural/adults_2550_male_rural_600-799.csv',sep='|')\n",
    "df4=pd.read_csv('adults_2550_male/adults_2550_male_rural/adults_2550_male_rural_800-999.csv',sep='|')\n",
    "df5=pd.read_csv('adults_2550_male/adults_2550_male_urban/adults_2550_male_urban_000-199.csv',sep='|')\n",
    "df6=pd.read_csv('adults_2550_male/adults_2550_male_urban/adults_2550_male_urban_200-399.csv',sep='|')\n",
    "df7=pd.read_csv('adults_2550_male/adults_2550_male_urban/adults_2550_male_urban_400-599.csv',sep='|')\n",
    "df8=pd.read_csv('adults_2550_male/adults_2550_male_urban/adults_2550_male_urban_600-799.csv',sep='|')\n",
    "df9=pd.read_csv('adults_2550_male/adults_2550_male_urban/adults_2550_male_urban_800-999.csv',sep='|')"
   ]
  },
  {
   "cell_type": "markdown",
   "metadata": {
    "cell_id": "e75d8508605a41138495ec6c9f0eb19f",
    "deepnote_cell_type": "separator"
   },
   "source": [
    "<hr>"
   ]
  },
  {
   "cell_type": "markdown",
   "metadata": {
    "cell_id": "4cb623c5224341868fe1c75c7f68b8dc",
    "deepnote_cell_type": "markdown",
    "id": "8Ivx4xzphezz"
   },
   "source": [
    "### B.2 Explore Dataset"
   ]
  },
  {
   "cell_type": "code",
   "execution_count": 66,
   "metadata": {
    "allow_embed": false,
    "cell_id": "70227d57de9a4c5096234c9f58717e54",
    "deepnote_cell_type": "code",
    "id": "SeVo97rOhezz"
   },
   "outputs": [
    {
     "data": {
      "text/html": [
       "<div>\n",
       "<style scoped>\n",
       "    .dataframe tbody tr th:only-of-type {\n",
       "        vertical-align: middle;\n",
       "    }\n",
       "\n",
       "    .dataframe tbody tr th {\n",
       "        vertical-align: top;\n",
       "    }\n",
       "\n",
       "    .dataframe thead th {\n",
       "        text-align: right;\n",
       "    }\n",
       "</style>\n",
       "<table border=\"1\" class=\"dataframe\">\n",
       "  <thead>\n",
       "    <tr style=\"text-align: right;\">\n",
       "      <th></th>\n",
       "      <th>cc_num</th>\n",
       "      <th>acct_num</th>\n",
       "      <th>trans_num</th>\n",
       "      <th>unix_time</th>\n",
       "      <th>category</th>\n",
       "      <th>amt</th>\n",
       "      <th>is_fraud</th>\n",
       "      <th>merchant</th>\n",
       "      <th>merch_lat</th>\n",
       "      <th>merch_long</th>\n",
       "    </tr>\n",
       "  </thead>\n",
       "  <tbody>\n",
       "    <tr>\n",
       "      <th>0</th>\n",
       "      <td>6011034324451072</td>\n",
       "      <td>347300118003</td>\n",
       "      <td>5fd8114f0a9e6173c4b6b2d4a1357629</td>\n",
       "      <td>1642086410</td>\n",
       "      <td>gas_transport</td>\n",
       "      <td>67.37</td>\n",
       "      <td>0</td>\n",
       "      <td>Kent PLC</td>\n",
       "      <td>31.722756</td>\n",
       "      <td>-109.043992</td>\n",
       "    </tr>\n",
       "    <tr>\n",
       "      <th>1</th>\n",
       "      <td>6011034324451072</td>\n",
       "      <td>347300118003</td>\n",
       "      <td>cc6a2a82b2e153d17a61a89b3998f010</td>\n",
       "      <td>1655946207</td>\n",
       "      <td>shopping_pos</td>\n",
       "      <td>71.92</td>\n",
       "      <td>0</td>\n",
       "      <td>Smith, Taylor and Palmer</td>\n",
       "      <td>32.666096</td>\n",
       "      <td>-108.996380</td>\n",
       "    </tr>\n",
       "    <tr>\n",
       "      <th>2</th>\n",
       "      <td>6011034324451072</td>\n",
       "      <td>347300118003</td>\n",
       "      <td>036a0c03732a15f6e14a78ebc3954786</td>\n",
       "      <td>1647697745</td>\n",
       "      <td>grocery_pos</td>\n",
       "      <td>76.54</td>\n",
       "      <td>0</td>\n",
       "      <td>Johnson Group</td>\n",
       "      <td>31.681885</td>\n",
       "      <td>-110.087164</td>\n",
       "    </tr>\n",
       "    <tr>\n",
       "      <th>3</th>\n",
       "      <td>6011034324451072</td>\n",
       "      <td>347300118003</td>\n",
       "      <td>ea3861ae99d1115d28df7e9c3a93e819</td>\n",
       "      <td>1647995663</td>\n",
       "      <td>grocery_pos</td>\n",
       "      <td>63.04</td>\n",
       "      <td>0</td>\n",
       "      <td>Adams Ltd</td>\n",
       "      <td>31.643283</td>\n",
       "      <td>-108.291944</td>\n",
       "    </tr>\n",
       "    <tr>\n",
       "      <th>4</th>\n",
       "      <td>6011034324451072</td>\n",
       "      <td>347300118003</td>\n",
       "      <td>1106c5d5f386d895e1f159a1f0f25699</td>\n",
       "      <td>1649186549</td>\n",
       "      <td>grocery_pos</td>\n",
       "      <td>83.62</td>\n",
       "      <td>0</td>\n",
       "      <td>Pratt, Joyce and Barajas</td>\n",
       "      <td>31.581803</td>\n",
       "      <td>-110.153007</td>\n",
       "    </tr>\n",
       "  </tbody>\n",
       "</table>\n",
       "</div>"
      ],
      "text/plain": [
       "             cc_num      acct_num                         trans_num  \\\n",
       "0  6011034324451072  347300118003  5fd8114f0a9e6173c4b6b2d4a1357629   \n",
       "1  6011034324451072  347300118003  cc6a2a82b2e153d17a61a89b3998f010   \n",
       "2  6011034324451072  347300118003  036a0c03732a15f6e14a78ebc3954786   \n",
       "3  6011034324451072  347300118003  ea3861ae99d1115d28df7e9c3a93e819   \n",
       "4  6011034324451072  347300118003  1106c5d5f386d895e1f159a1f0f25699   \n",
       "\n",
       "    unix_time       category    amt  is_fraud                  merchant  \\\n",
       "0  1642086410  gas_transport  67.37         0                  Kent PLC   \n",
       "1  1655946207   shopping_pos  71.92         0  Smith, Taylor and Palmer   \n",
       "2  1647697745    grocery_pos  76.54         0             Johnson Group   \n",
       "3  1647995663    grocery_pos  63.04         0                 Adams Ltd   \n",
       "4  1649186549    grocery_pos  83.62         0  Pratt, Joyce and Barajas   \n",
       "\n",
       "   merch_lat  merch_long  \n",
       "0  31.722756 -109.043992  \n",
       "1  32.666096 -108.996380  \n",
       "2  31.681885 -110.087164  \n",
       "3  31.643283 -108.291944  \n",
       "4  31.581803 -110.153007  "
      ]
     },
     "execution_count": 66,
     "metadata": {},
     "output_type": "execute_result"
    }
   ],
   "source": [
    "# Display the first 5 rows of the dataset\n",
    "df0.head()"
   ]
  },
  {
   "cell_type": "code",
   "execution_count": 67,
   "metadata": {},
   "outputs": [
    {
     "data": {
      "text/plain": [
       "(2157, 10)"
      ]
     },
     "execution_count": 67,
     "metadata": {},
     "output_type": "execute_result"
    }
   ],
   "source": [
    "# Display the shape of the dataset\n",
    "df0.shape"
   ]
  },
  {
   "cell_type": "code",
   "execution_count": 68,
   "metadata": {},
   "outputs": [
    {
     "name": "stdout",
     "output_type": "stream",
     "text": [
      "<class 'pandas.core.frame.DataFrame'>\n",
      "RangeIndex: 2157 entries, 0 to 2156\n",
      "Data columns (total 10 columns):\n",
      " #   Column      Non-Null Count  Dtype  \n",
      "---  ------      --------------  -----  \n",
      " 0   cc_num      2157 non-null   int64  \n",
      " 1   acct_num    2157 non-null   int64  \n",
      " 2   trans_num   2157 non-null   object \n",
      " 3   unix_time   2157 non-null   int64  \n",
      " 4   category    2157 non-null   object \n",
      " 5   amt         2157 non-null   float64\n",
      " 6   is_fraud    2157 non-null   int64  \n",
      " 7   merchant    2157 non-null   object \n",
      " 8   merch_lat   2157 non-null   float64\n",
      " 9   merch_long  2157 non-null   float64\n",
      "dtypes: float64(3), int64(4), object(3)\n",
      "memory usage: 168.6+ KB\n"
     ]
    }
   ],
   "source": [
    "# Display information about the dataset\n",
    "df0.info()"
   ]
  },
  {
   "cell_type": "markdown",
   "metadata": {
    "cell_id": "03d7ec48e71a4eeba83d998d4522ca85",
    "deepnote_cell_type": "text-cell-callout",
    "formattedRanges": []
   },
   "source": [
    "> Insights: \n",
    "* This dataset has 2,157 rows and 10 columns.\n",
    "* No missing values are present in any of the columns.\n",
    "* Both numerical (e.g., amt, merch_lat, merch_long) and categorical (e.g., category, merchant) features are present, and would require preprocessing (e.g., encoding) for certain types of analysis or modeling.\n",
    "* Transaction identifiers (cc_num, acct_num, and trans_num) may not directly contribute to clustering customer spending habits but can help track transaction patterns and link multiple transactions to individual customers."
   ]
  },
  {
   "cell_type": "code",
   "execution_count": 69,
   "metadata": {
    "cell_id": "a70341e566b94ff29dbb2c35fd4f39e2",
    "deepnote_cell_type": "code",
    "id": "SeVo97rOhezz"
   },
   "outputs": [
    {
     "data": {
      "text/html": [
       "<div>\n",
       "<style scoped>\n",
       "    .dataframe tbody tr th:only-of-type {\n",
       "        vertical-align: middle;\n",
       "    }\n",
       "\n",
       "    .dataframe tbody tr th {\n",
       "        vertical-align: top;\n",
       "    }\n",
       "\n",
       "    .dataframe thead th {\n",
       "        text-align: right;\n",
       "    }\n",
       "</style>\n",
       "<table border=\"1\" class=\"dataframe\">\n",
       "  <thead>\n",
       "    <tr style=\"text-align: right;\">\n",
       "      <th></th>\n",
       "      <th>cc_num</th>\n",
       "      <th>acct_num</th>\n",
       "      <th>trans_num</th>\n",
       "      <th>unix_time</th>\n",
       "      <th>category</th>\n",
       "      <th>amt</th>\n",
       "      <th>is_fraud</th>\n",
       "      <th>merchant</th>\n",
       "      <th>merch_lat</th>\n",
       "      <th>merch_long</th>\n",
       "    </tr>\n",
       "  </thead>\n",
       "  <tbody>\n",
       "  </tbody>\n",
       "</table>\n",
       "</div>"
      ],
      "text/plain": [
       "Empty DataFrame\n",
       "Columns: [cc_num, acct_num, trans_num, unix_time, category, amt, is_fraud, merchant, merch_lat, merch_long]\n",
       "Index: []"
      ]
     },
     "execution_count": 69,
     "metadata": {},
     "output_type": "execute_result"
    }
   ],
   "source": [
    "# Display the first 5 rows of the dataset\n",
    "df1.head()"
   ]
  },
  {
   "cell_type": "code",
   "execution_count": 70,
   "metadata": {},
   "outputs": [
    {
     "data": {
      "text/plain": [
       "(0, 10)"
      ]
     },
     "execution_count": 70,
     "metadata": {},
     "output_type": "execute_result"
    }
   ],
   "source": [
    "# Display the shape of the dataset\n",
    "df1.shape"
   ]
  },
  {
   "cell_type": "code",
   "execution_count": 71,
   "metadata": {},
   "outputs": [
    {
     "name": "stdout",
     "output_type": "stream",
     "text": [
      "<class 'pandas.core.frame.DataFrame'>\n",
      "RangeIndex: 0 entries\n",
      "Data columns (total 10 columns):\n",
      " #   Column      Non-Null Count  Dtype \n",
      "---  ------      --------------  ----- \n",
      " 0   cc_num      0 non-null      object\n",
      " 1   acct_num    0 non-null      object\n",
      " 2   trans_num   0 non-null      object\n",
      " 3   unix_time   0 non-null      object\n",
      " 4   category    0 non-null      object\n",
      " 5   amt         0 non-null      object\n",
      " 6   is_fraud    0 non-null      object\n",
      " 7   merchant    0 non-null      object\n",
      " 8   merch_lat   0 non-null      object\n",
      " 9   merch_long  0 non-null      object\n",
      "dtypes: object(10)\n",
      "memory usage: 132.0+ bytes\n"
     ]
    }
   ],
   "source": [
    "# Display information about the dataset\n",
    "df1.info()"
   ]
  },
  {
   "cell_type": "markdown",
   "metadata": {
    "cell_id": "e059ee02ef7e4a8d935ff6d0a83fdecb",
    "deepnote_cell_type": "text-cell-callout",
    "formattedRanges": []
   },
   "source": [
    "> Insights: \n",
    "* This is a empty dataset."
   ]
  },
  {
   "cell_type": "code",
   "execution_count": 72,
   "metadata": {
    "cell_id": "d5ba2d5582394111803a1d126cb0c02f",
    "deepnote_cell_type": "code",
    "id": "Gd6eGM81hez0"
   },
   "outputs": [
    {
     "data": {
      "text/html": [
       "<div>\n",
       "<style scoped>\n",
       "    .dataframe tbody tr th:only-of-type {\n",
       "        vertical-align: middle;\n",
       "    }\n",
       "\n",
       "    .dataframe tbody tr th {\n",
       "        vertical-align: top;\n",
       "    }\n",
       "\n",
       "    .dataframe thead th {\n",
       "        text-align: right;\n",
       "    }\n",
       "</style>\n",
       "<table border=\"1\" class=\"dataframe\">\n",
       "  <thead>\n",
       "    <tr style=\"text-align: right;\">\n",
       "      <th></th>\n",
       "      <th>cc_num</th>\n",
       "      <th>acct_num</th>\n",
       "      <th>trans_num</th>\n",
       "      <th>unix_time</th>\n",
       "      <th>category</th>\n",
       "      <th>amt</th>\n",
       "      <th>is_fraud</th>\n",
       "      <th>merchant</th>\n",
       "      <th>merch_lat</th>\n",
       "      <th>merch_long</th>\n",
       "    </tr>\n",
       "  </thead>\n",
       "  <tbody>\n",
       "    <tr>\n",
       "      <th>0</th>\n",
       "      <td>347138067130732</td>\n",
       "      <td>199437219108</td>\n",
       "      <td>b6cb7abe1bc9ad9fa86c461c174fa4e8</td>\n",
       "      <td>1654464208</td>\n",
       "      <td>shopping_net</td>\n",
       "      <td>65.29</td>\n",
       "      <td>0</td>\n",
       "      <td>Lam-Kent</td>\n",
       "      <td>35.127424</td>\n",
       "      <td>-85.628540</td>\n",
       "    </tr>\n",
       "    <tr>\n",
       "      <th>1</th>\n",
       "      <td>347138067130732</td>\n",
       "      <td>199437219108</td>\n",
       "      <td>c4e32dc6d1c0f68501636e2730d613be</td>\n",
       "      <td>1646770233</td>\n",
       "      <td>grocery_pos</td>\n",
       "      <td>65.53</td>\n",
       "      <td>0</td>\n",
       "      <td>Hoffman-Martinez</td>\n",
       "      <td>34.538931</td>\n",
       "      <td>-86.731857</td>\n",
       "    </tr>\n",
       "    <tr>\n",
       "      <th>2</th>\n",
       "      <td>347138067130732</td>\n",
       "      <td>199437219108</td>\n",
       "      <td>1a9effbcf75d1181a564c05feb571614</td>\n",
       "      <td>1652553951</td>\n",
       "      <td>misc_pos</td>\n",
       "      <td>71.96</td>\n",
       "      <td>0</td>\n",
       "      <td>Rush Group</td>\n",
       "      <td>34.948486</td>\n",
       "      <td>-85.065414</td>\n",
       "    </tr>\n",
       "    <tr>\n",
       "      <th>3</th>\n",
       "      <td>347138067130732</td>\n",
       "      <td>199437219108</td>\n",
       "      <td>c5aa27a125d333c63b494ca61b2d3021</td>\n",
       "      <td>1649344489</td>\n",
       "      <td>grocery_pos</td>\n",
       "      <td>67.72</td>\n",
       "      <td>0</td>\n",
       "      <td>Davis LLC</td>\n",
       "      <td>33.498267</td>\n",
       "      <td>-84.985591</td>\n",
       "    </tr>\n",
       "    <tr>\n",
       "      <th>4</th>\n",
       "      <td>347138067130732</td>\n",
       "      <td>199437219108</td>\n",
       "      <td>794c84f0b003b61e00b478f6153d9c48</td>\n",
       "      <td>1654194345</td>\n",
       "      <td>shopping_net</td>\n",
       "      <td>71.31</td>\n",
       "      <td>0</td>\n",
       "      <td>Castro-Wyatt</td>\n",
       "      <td>33.374870</td>\n",
       "      <td>-85.680996</td>\n",
       "    </tr>\n",
       "  </tbody>\n",
       "</table>\n",
       "</div>"
      ],
      "text/plain": [
       "            cc_num      acct_num                         trans_num  \\\n",
       "0  347138067130732  199437219108  b6cb7abe1bc9ad9fa86c461c174fa4e8   \n",
       "1  347138067130732  199437219108  c4e32dc6d1c0f68501636e2730d613be   \n",
       "2  347138067130732  199437219108  1a9effbcf75d1181a564c05feb571614   \n",
       "3  347138067130732  199437219108  c5aa27a125d333c63b494ca61b2d3021   \n",
       "4  347138067130732  199437219108  794c84f0b003b61e00b478f6153d9c48   \n",
       "\n",
       "    unix_time      category    amt  is_fraud          merchant  merch_lat  \\\n",
       "0  1654464208  shopping_net  65.29         0          Lam-Kent  35.127424   \n",
       "1  1646770233   grocery_pos  65.53         0  Hoffman-Martinez  34.538931   \n",
       "2  1652553951      misc_pos  71.96         0        Rush Group  34.948486   \n",
       "3  1649344489   grocery_pos  67.72         0         Davis LLC  33.498267   \n",
       "4  1654194345  shopping_net  71.31         0      Castro-Wyatt  33.374870   \n",
       "\n",
       "   merch_long  \n",
       "0  -85.628540  \n",
       "1  -86.731857  \n",
       "2  -85.065414  \n",
       "3  -84.985591  \n",
       "4  -85.680996  "
      ]
     },
     "execution_count": 72,
     "metadata": {},
     "output_type": "execute_result"
    }
   ],
   "source": [
    "# Display the first 5 rows of the dataset\n",
    "df2.head()"
   ]
  },
  {
   "cell_type": "code",
   "execution_count": 73,
   "metadata": {},
   "outputs": [
    {
     "data": {
      "text/plain": [
       "(2506, 10)"
      ]
     },
     "execution_count": 73,
     "metadata": {},
     "output_type": "execute_result"
    }
   ],
   "source": [
    "# Display the shape of the dataset\n",
    "df2.shape"
   ]
  },
  {
   "cell_type": "code",
   "execution_count": 74,
   "metadata": {},
   "outputs": [
    {
     "name": "stdout",
     "output_type": "stream",
     "text": [
      "<class 'pandas.core.frame.DataFrame'>\n",
      "RangeIndex: 2506 entries, 0 to 2505\n",
      "Data columns (total 10 columns):\n",
      " #   Column      Non-Null Count  Dtype  \n",
      "---  ------      --------------  -----  \n",
      " 0   cc_num      2506 non-null   int64  \n",
      " 1   acct_num    2506 non-null   int64  \n",
      " 2   trans_num   2506 non-null   object \n",
      " 3   unix_time   2506 non-null   int64  \n",
      " 4   category    2506 non-null   object \n",
      " 5   amt         2506 non-null   float64\n",
      " 6   is_fraud    2506 non-null   int64  \n",
      " 7   merchant    2506 non-null   object \n",
      " 8   merch_lat   2506 non-null   float64\n",
      " 9   merch_long  2506 non-null   float64\n",
      "dtypes: float64(3), int64(4), object(3)\n",
      "memory usage: 195.9+ KB\n"
     ]
    }
   ],
   "source": [
    "# Display information about the dataset\n",
    "df2.info()"
   ]
  },
  {
   "cell_type": "markdown",
   "metadata": {
    "cell_id": "0f846d3634e147c0882b2cac0e8e40e9",
    "deepnote_cell_type": "text-cell-callout",
    "formattedRanges": []
   },
   "source": [
    "> Insights: \n",
    "* This Dataset has 2506 rows and 10 columns only.\n",
    "* There is no missing values in the dataset.\n",
    "* This Dataset has the exact same columns as the df0 Dataset."
   ]
  },
  {
   "cell_type": "code",
   "execution_count": 75,
   "metadata": {
    "allow_embed": false,
    "cell_id": "f5751e3328064bf3b098708610396b96",
    "deepnote_cell_type": "code",
    "id": "Gd6eGM81hez0"
   },
   "outputs": [
    {
     "data": {
      "text/html": [
       "<div>\n",
       "<style scoped>\n",
       "    .dataframe tbody tr th:only-of-type {\n",
       "        vertical-align: middle;\n",
       "    }\n",
       "\n",
       "    .dataframe tbody tr th {\n",
       "        vertical-align: top;\n",
       "    }\n",
       "\n",
       "    .dataframe thead th {\n",
       "        text-align: right;\n",
       "    }\n",
       "</style>\n",
       "<table border=\"1\" class=\"dataframe\">\n",
       "  <thead>\n",
       "    <tr style=\"text-align: right;\">\n",
       "      <th></th>\n",
       "      <th>cc_num</th>\n",
       "      <th>acct_num</th>\n",
       "      <th>trans_num</th>\n",
       "      <th>unix_time</th>\n",
       "      <th>category</th>\n",
       "      <th>amt</th>\n",
       "      <th>is_fraud</th>\n",
       "      <th>merchant</th>\n",
       "      <th>merch_lat</th>\n",
       "      <th>merch_long</th>\n",
       "    </tr>\n",
       "  </thead>\n",
       "  <tbody>\n",
       "  </tbody>\n",
       "</table>\n",
       "</div>"
      ],
      "text/plain": [
       "Empty DataFrame\n",
       "Columns: [cc_num, acct_num, trans_num, unix_time, category, amt, is_fraud, merchant, merch_lat, merch_long]\n",
       "Index: []"
      ]
     },
     "execution_count": 75,
     "metadata": {},
     "output_type": "execute_result"
    }
   ],
   "source": [
    "# Display the first 5 rows of the dataset\n",
    "df3.head()"
   ]
  },
  {
   "cell_type": "code",
   "execution_count": 76,
   "metadata": {},
   "outputs": [
    {
     "data": {
      "text/plain": [
       "(0, 10)"
      ]
     },
     "execution_count": 76,
     "metadata": {},
     "output_type": "execute_result"
    }
   ],
   "source": [
    "# Display the shape of the dataset\n",
    "df3.shape"
   ]
  },
  {
   "cell_type": "code",
   "execution_count": 77,
   "metadata": {},
   "outputs": [
    {
     "name": "stdout",
     "output_type": "stream",
     "text": [
      "<class 'pandas.core.frame.DataFrame'>\n",
      "RangeIndex: 0 entries\n",
      "Data columns (total 10 columns):\n",
      " #   Column      Non-Null Count  Dtype \n",
      "---  ------      --------------  ----- \n",
      " 0   cc_num      0 non-null      object\n",
      " 1   acct_num    0 non-null      object\n",
      " 2   trans_num   0 non-null      object\n",
      " 3   unix_time   0 non-null      object\n",
      " 4   category    0 non-null      object\n",
      " 5   amt         0 non-null      object\n",
      " 6   is_fraud    0 non-null      object\n",
      " 7   merchant    0 non-null      object\n",
      " 8   merch_lat   0 non-null      object\n",
      " 9   merch_long  0 non-null      object\n",
      "dtypes: object(10)\n",
      "memory usage: 132.0+ bytes\n"
     ]
    }
   ],
   "source": [
    "# Display information about the dataset\n",
    "df3.info()"
   ]
  },
  {
   "cell_type": "markdown",
   "metadata": {
    "cell_id": "a596fe2e1ba9442c881008e4d744027a",
    "deepnote_cell_type": "text-cell-callout",
    "formattedRanges": []
   },
   "source": [
    "> Insights: \n",
    "* This is empty Dataset."
   ]
  },
  {
   "cell_type": "code",
   "execution_count": 78,
   "metadata": {
    "cell_id": "994384da26e54fa1bc51fe9c93bffb52",
    "deepnote_cell_type": "code",
    "id": "L6eMrb1Dhez0"
   },
   "outputs": [
    {
     "data": {
      "text/html": [
       "<div>\n",
       "<style scoped>\n",
       "    .dataframe tbody tr th:only-of-type {\n",
       "        vertical-align: middle;\n",
       "    }\n",
       "\n",
       "    .dataframe tbody tr th {\n",
       "        vertical-align: top;\n",
       "    }\n",
       "\n",
       "    .dataframe thead th {\n",
       "        text-align: right;\n",
       "    }\n",
       "</style>\n",
       "<table border=\"1\" class=\"dataframe\">\n",
       "  <thead>\n",
       "    <tr style=\"text-align: right;\">\n",
       "      <th></th>\n",
       "      <th>cc_num</th>\n",
       "      <th>acct_num</th>\n",
       "      <th>trans_num</th>\n",
       "      <th>unix_time</th>\n",
       "      <th>category</th>\n",
       "      <th>amt</th>\n",
       "      <th>is_fraud</th>\n",
       "      <th>merchant</th>\n",
       "      <th>merch_lat</th>\n",
       "      <th>merch_long</th>\n",
       "    </tr>\n",
       "  </thead>\n",
       "  <tbody>\n",
       "    <tr>\n",
       "      <th>0</th>\n",
       "      <td>3544928787570307</td>\n",
       "      <td>185865727840</td>\n",
       "      <td>e5f6b59ebc648b371e37a3999369a2a5</td>\n",
       "      <td>1651785219</td>\n",
       "      <td>misc_pos</td>\n",
       "      <td>73.58</td>\n",
       "      <td>0</td>\n",
       "      <td>Hodge-Duncan</td>\n",
       "      <td>48.984414</td>\n",
       "      <td>-119.306075</td>\n",
       "    </tr>\n",
       "    <tr>\n",
       "      <th>1</th>\n",
       "      <td>3544928787570307</td>\n",
       "      <td>185865727840</td>\n",
       "      <td>13dbd1168a202d54b4828f94a3a8d953</td>\n",
       "      <td>1652574109</td>\n",
       "      <td>misc_pos</td>\n",
       "      <td>78.42</td>\n",
       "      <td>0</td>\n",
       "      <td>Salazar-Baker</td>\n",
       "      <td>48.030228</td>\n",
       "      <td>-120.077876</td>\n",
       "    </tr>\n",
       "    <tr>\n",
       "      <th>2</th>\n",
       "      <td>3544928787570307</td>\n",
       "      <td>185865727840</td>\n",
       "      <td>7ff130853ef15fc8b1784c76da83171c</td>\n",
       "      <td>1642175961</td>\n",
       "      <td>gas_transport</td>\n",
       "      <td>75.61</td>\n",
       "      <td>0</td>\n",
       "      <td>Clark Group</td>\n",
       "      <td>49.126907</td>\n",
       "      <td>-120.041089</td>\n",
       "    </tr>\n",
       "    <tr>\n",
       "      <th>3</th>\n",
       "      <td>3544928787570307</td>\n",
       "      <td>185865727840</td>\n",
       "      <td>f099306ef13c9783af1c262052a6ff57</td>\n",
       "      <td>1649812410</td>\n",
       "      <td>misc_net</td>\n",
       "      <td>72.75</td>\n",
       "      <td>0</td>\n",
       "      <td>Morgan-Aguirre</td>\n",
       "      <td>48.479925</td>\n",
       "      <td>-119.211692</td>\n",
       "    </tr>\n",
       "    <tr>\n",
       "      <th>4</th>\n",
       "      <td>3544928787570307</td>\n",
       "      <td>185865727840</td>\n",
       "      <td>cb15fb65e2c82f9c1f3d87c0249c1560</td>\n",
       "      <td>1655848061</td>\n",
       "      <td>shopping_pos</td>\n",
       "      <td>74.08</td>\n",
       "      <td>0</td>\n",
       "      <td>Paul-Kelley</td>\n",
       "      <td>48.270640</td>\n",
       "      <td>-120.077041</td>\n",
       "    </tr>\n",
       "  </tbody>\n",
       "</table>\n",
       "</div>"
      ],
      "text/plain": [
       "             cc_num      acct_num                         trans_num  \\\n",
       "0  3544928787570307  185865727840  e5f6b59ebc648b371e37a3999369a2a5   \n",
       "1  3544928787570307  185865727840  13dbd1168a202d54b4828f94a3a8d953   \n",
       "2  3544928787570307  185865727840  7ff130853ef15fc8b1784c76da83171c   \n",
       "3  3544928787570307  185865727840  f099306ef13c9783af1c262052a6ff57   \n",
       "4  3544928787570307  185865727840  cb15fb65e2c82f9c1f3d87c0249c1560   \n",
       "\n",
       "    unix_time       category    amt  is_fraud        merchant  merch_lat  \\\n",
       "0  1651785219       misc_pos  73.58         0    Hodge-Duncan  48.984414   \n",
       "1  1652574109       misc_pos  78.42         0   Salazar-Baker  48.030228   \n",
       "2  1642175961  gas_transport  75.61         0     Clark Group  49.126907   \n",
       "3  1649812410       misc_net  72.75         0  Morgan-Aguirre  48.479925   \n",
       "4  1655848061   shopping_pos  74.08         0     Paul-Kelley  48.270640   \n",
       "\n",
       "   merch_long  \n",
       "0 -119.306075  \n",
       "1 -120.077876  \n",
       "2 -120.041089  \n",
       "3 -119.211692  \n",
       "4 -120.077041  "
      ]
     },
     "execution_count": 78,
     "metadata": {},
     "output_type": "execute_result"
    }
   ],
   "source": [
    "# Display the first 5 rows of the dataset\n",
    "df4.head()"
   ]
  },
  {
   "cell_type": "code",
   "execution_count": 79,
   "metadata": {},
   "outputs": [
    {
     "data": {
      "text/plain": [
       "(1074, 10)"
      ]
     },
     "execution_count": 79,
     "metadata": {},
     "output_type": "execute_result"
    }
   ],
   "source": [
    "# Display the shape of the dataset\n",
    "df4.shape"
   ]
  },
  {
   "cell_type": "code",
   "execution_count": 80,
   "metadata": {},
   "outputs": [
    {
     "name": "stdout",
     "output_type": "stream",
     "text": [
      "<class 'pandas.core.frame.DataFrame'>\n",
      "RangeIndex: 1074 entries, 0 to 1073\n",
      "Data columns (total 10 columns):\n",
      " #   Column      Non-Null Count  Dtype  \n",
      "---  ------      --------------  -----  \n",
      " 0   cc_num      1074 non-null   int64  \n",
      " 1   acct_num    1074 non-null   int64  \n",
      " 2   trans_num   1074 non-null   object \n",
      " 3   unix_time   1074 non-null   int64  \n",
      " 4   category    1074 non-null   object \n",
      " 5   amt         1074 non-null   float64\n",
      " 6   is_fraud    1074 non-null   int64  \n",
      " 7   merchant    1074 non-null   object \n",
      " 8   merch_lat   1074 non-null   float64\n",
      " 9   merch_long  1074 non-null   float64\n",
      "dtypes: float64(3), int64(4), object(3)\n",
      "memory usage: 84.0+ KB\n"
     ]
    }
   ],
   "source": [
    "# Display information about the dataset\n",
    "df4.info()"
   ]
  },
  {
   "cell_type": "markdown",
   "metadata": {
    "cell_id": "c1bbd1a66a524a10a097627c5dc0e62d",
    "deepnote_cell_type": "text-cell-callout",
    "formattedRanges": []
   },
   "source": [
    "> Insights: \n",
    "* This Dataset has 1704 rows and 10 columns only.\n",
    "* There is no missing values in the dataset.\n",
    "* This Dataset has the exact same columns as the df0 Dataset."
   ]
  },
  {
   "cell_type": "code",
   "execution_count": 81,
   "metadata": {
    "allow_embed": false,
    "cell_id": "7739422ed5f94597be71a2cbbc2066e5",
    "deepnote_cell_type": "code",
    "id": "L6eMrb1Dhez0"
   },
   "outputs": [
    {
     "data": {
      "text/html": [
       "<div>\n",
       "<style scoped>\n",
       "    .dataframe tbody tr th:only-of-type {\n",
       "        vertical-align: middle;\n",
       "    }\n",
       "\n",
       "    .dataframe tbody tr th {\n",
       "        vertical-align: top;\n",
       "    }\n",
       "\n",
       "    .dataframe thead th {\n",
       "        text-align: right;\n",
       "    }\n",
       "</style>\n",
       "<table border=\"1\" class=\"dataframe\">\n",
       "  <thead>\n",
       "    <tr style=\"text-align: right;\">\n",
       "      <th></th>\n",
       "      <th>cc_num</th>\n",
       "      <th>acct_num</th>\n",
       "      <th>trans_num</th>\n",
       "      <th>unix_time</th>\n",
       "      <th>category</th>\n",
       "      <th>amt</th>\n",
       "      <th>is_fraud</th>\n",
       "      <th>merchant</th>\n",
       "      <th>merch_lat</th>\n",
       "      <th>merch_long</th>\n",
       "    </tr>\n",
       "  </thead>\n",
       "  <tbody>\n",
       "    <tr>\n",
       "      <th>0</th>\n",
       "      <td>4192832764832</td>\n",
       "      <td>718172762479</td>\n",
       "      <td>8a4d89c0ae4b4a71c152228044c3b961</td>\n",
       "      <td>1641665906</td>\n",
       "      <td>gas_transport</td>\n",
       "      <td>49.97</td>\n",
       "      <td>0</td>\n",
       "      <td>Schneider-Gibson</td>\n",
       "      <td>33.177548</td>\n",
       "      <td>-80.657003</td>\n",
       "    </tr>\n",
       "    <tr>\n",
       "      <th>1</th>\n",
       "      <td>4192832764832</td>\n",
       "      <td>718172762479</td>\n",
       "      <td>c87f888a1fd591da993897d6cf4e9952</td>\n",
       "      <td>1647649712</td>\n",
       "      <td>grocery_net</td>\n",
       "      <td>55.14</td>\n",
       "      <td>0</td>\n",
       "      <td>Maynard, Parrish and Harrison</td>\n",
       "      <td>33.186199</td>\n",
       "      <td>-81.561961</td>\n",
       "    </tr>\n",
       "    <tr>\n",
       "      <th>2</th>\n",
       "      <td>4192832764832</td>\n",
       "      <td>718172762479</td>\n",
       "      <td>8cd70b485a39d65dcfa40e44de20e17a</td>\n",
       "      <td>1650124751</td>\n",
       "      <td>grocery_pos</td>\n",
       "      <td>78.27</td>\n",
       "      <td>0</td>\n",
       "      <td>Stephens, Shelton and Graham</td>\n",
       "      <td>33.536041</td>\n",
       "      <td>-80.204725</td>\n",
       "    </tr>\n",
       "    <tr>\n",
       "      <th>3</th>\n",
       "      <td>4192832764832</td>\n",
       "      <td>718172762479</td>\n",
       "      <td>792aeaf8e6ba696fcd3eca5d34240999</td>\n",
       "      <td>1650751913</td>\n",
       "      <td>grocery_pos</td>\n",
       "      <td>77.22</td>\n",
       "      <td>0</td>\n",
       "      <td>Johnson-Benton</td>\n",
       "      <td>33.992088</td>\n",
       "      <td>-80.101204</td>\n",
       "    </tr>\n",
       "    <tr>\n",
       "      <th>4</th>\n",
       "      <td>4192832764832</td>\n",
       "      <td>718172762479</td>\n",
       "      <td>c0bc143521b61d39d65d2af206fd7388</td>\n",
       "      <td>1645829935</td>\n",
       "      <td>gas_transport</td>\n",
       "      <td>72.08</td>\n",
       "      <td>0</td>\n",
       "      <td>Bell, Campos and Orr</td>\n",
       "      <td>32.710811</td>\n",
       "      <td>-80.119715</td>\n",
       "    </tr>\n",
       "  </tbody>\n",
       "</table>\n",
       "</div>"
      ],
      "text/plain": [
       "          cc_num      acct_num                         trans_num   unix_time  \\\n",
       "0  4192832764832  718172762479  8a4d89c0ae4b4a71c152228044c3b961  1641665906   \n",
       "1  4192832764832  718172762479  c87f888a1fd591da993897d6cf4e9952  1647649712   \n",
       "2  4192832764832  718172762479  8cd70b485a39d65dcfa40e44de20e17a  1650124751   \n",
       "3  4192832764832  718172762479  792aeaf8e6ba696fcd3eca5d34240999  1650751913   \n",
       "4  4192832764832  718172762479  c0bc143521b61d39d65d2af206fd7388  1645829935   \n",
       "\n",
       "        category    amt  is_fraud                       merchant  merch_lat  \\\n",
       "0  gas_transport  49.97         0               Schneider-Gibson  33.177548   \n",
       "1    grocery_net  55.14         0  Maynard, Parrish and Harrison  33.186199   \n",
       "2    grocery_pos  78.27         0   Stephens, Shelton and Graham  33.536041   \n",
       "3    grocery_pos  77.22         0                 Johnson-Benton  33.992088   \n",
       "4  gas_transport  72.08         0           Bell, Campos and Orr  32.710811   \n",
       "\n",
       "   merch_long  \n",
       "0  -80.657003  \n",
       "1  -81.561961  \n",
       "2  -80.204725  \n",
       "3  -80.101204  \n",
       "4  -80.119715  "
      ]
     },
     "execution_count": 81,
     "metadata": {},
     "output_type": "execute_result"
    }
   ],
   "source": [
    "# Display the first 5 rows of the dataset\n",
    "df5.head()"
   ]
  },
  {
   "cell_type": "code",
   "execution_count": 82,
   "metadata": {},
   "outputs": [
    {
     "data": {
      "text/plain": [
       "(43682, 10)"
      ]
     },
     "execution_count": 82,
     "metadata": {},
     "output_type": "execute_result"
    }
   ],
   "source": [
    "# Display the shape of the dataset\n",
    "df5.shape"
   ]
  },
  {
   "cell_type": "code",
   "execution_count": 83,
   "metadata": {},
   "outputs": [
    {
     "name": "stdout",
     "output_type": "stream",
     "text": [
      "<class 'pandas.core.frame.DataFrame'>\n",
      "RangeIndex: 43682 entries, 0 to 43681\n",
      "Data columns (total 10 columns):\n",
      " #   Column      Non-Null Count  Dtype  \n",
      "---  ------      --------------  -----  \n",
      " 0   cc_num      43682 non-null  int64  \n",
      " 1   acct_num    43682 non-null  int64  \n",
      " 2   trans_num   43682 non-null  object \n",
      " 3   unix_time   43682 non-null  int64  \n",
      " 4   category    43682 non-null  object \n",
      " 5   amt         43682 non-null  float64\n",
      " 6   is_fraud    43682 non-null  int64  \n",
      " 7   merchant    43682 non-null  object \n",
      " 8   merch_lat   43682 non-null  float64\n",
      " 9   merch_long  43682 non-null  float64\n",
      "dtypes: float64(3), int64(4), object(3)\n",
      "memory usage: 3.3+ MB\n"
     ]
    }
   ],
   "source": [
    "# Display information about the dataset\n",
    "df5.info()"
   ]
  },
  {
   "cell_type": "markdown",
   "metadata": {
    "cell_id": "d7181b85d35e46debe684a2db93dad5d",
    "deepnote_cell_type": "text-cell-callout",
    "formattedRanges": []
   },
   "source": [
    "> Insights: \n",
    "* This Dataset has 43682 rows and 10 columns only.\n",
    "* There is no missing values in the dataset.\n",
    "* This Dataset has the exact same columns as the df0 Dataset."
   ]
  },
  {
   "cell_type": "code",
   "execution_count": 84,
   "metadata": {
    "cell_id": "9e359778741440fcb3c93694c4524b03",
    "deepnote_cell_type": "code"
   },
   "outputs": [
    {
     "data": {
      "text/html": [
       "<div>\n",
       "<style scoped>\n",
       "    .dataframe tbody tr th:only-of-type {\n",
       "        vertical-align: middle;\n",
       "    }\n",
       "\n",
       "    .dataframe tbody tr th {\n",
       "        vertical-align: top;\n",
       "    }\n",
       "\n",
       "    .dataframe thead th {\n",
       "        text-align: right;\n",
       "    }\n",
       "</style>\n",
       "<table border=\"1\" class=\"dataframe\">\n",
       "  <thead>\n",
       "    <tr style=\"text-align: right;\">\n",
       "      <th></th>\n",
       "      <th>cc_num</th>\n",
       "      <th>acct_num</th>\n",
       "      <th>trans_num</th>\n",
       "      <th>unix_time</th>\n",
       "      <th>category</th>\n",
       "      <th>amt</th>\n",
       "      <th>is_fraud</th>\n",
       "      <th>merchant</th>\n",
       "      <th>merch_lat</th>\n",
       "      <th>merch_long</th>\n",
       "    </tr>\n",
       "  </thead>\n",
       "  <tbody>\n",
       "    <tr>\n",
       "      <th>0</th>\n",
       "      <td>30292842222314</td>\n",
       "      <td>491227929210</td>\n",
       "      <td>f67c4b47cc6a418f9f1edb683b5af74d</td>\n",
       "      <td>1644271062</td>\n",
       "      <td>gas_transport</td>\n",
       "      <td>72.70</td>\n",
       "      <td>0</td>\n",
       "      <td>Miller, Solis and Vega</td>\n",
       "      <td>33.756152</td>\n",
       "      <td>-118.180690</td>\n",
       "    </tr>\n",
       "    <tr>\n",
       "      <th>1</th>\n",
       "      <td>30292842222314</td>\n",
       "      <td>491227929210</td>\n",
       "      <td>d1b5ccc3f29477e14df905eda95908c4</td>\n",
       "      <td>1644085966</td>\n",
       "      <td>gas_transport</td>\n",
       "      <td>73.14</td>\n",
       "      <td>0</td>\n",
       "      <td>Dunn and Sons</td>\n",
       "      <td>34.684152</td>\n",
       "      <td>-118.072794</td>\n",
       "    </tr>\n",
       "    <tr>\n",
       "      <th>2</th>\n",
       "      <td>30292842222314</td>\n",
       "      <td>491227929210</td>\n",
       "      <td>a9aac8888d033bd07e90851638dd84fe</td>\n",
       "      <td>1647014898</td>\n",
       "      <td>grocery_net</td>\n",
       "      <td>98.90</td>\n",
       "      <td>0</td>\n",
       "      <td>Massey-Morgan</td>\n",
       "      <td>32.980310</td>\n",
       "      <td>-118.407788</td>\n",
       "    </tr>\n",
       "    <tr>\n",
       "      <th>3</th>\n",
       "      <td>30292842222314</td>\n",
       "      <td>491227929210</td>\n",
       "      <td>f2518539ccd7c1f2f41384345c9a768b</td>\n",
       "      <td>1646754763</td>\n",
       "      <td>grocery_net</td>\n",
       "      <td>85.81</td>\n",
       "      <td>0</td>\n",
       "      <td>Rodriguez, Thomas and Sexton</td>\n",
       "      <td>33.196887</td>\n",
       "      <td>-118.124583</td>\n",
       "    </tr>\n",
       "    <tr>\n",
       "      <th>4</th>\n",
       "      <td>30292842222314</td>\n",
       "      <td>491227929210</td>\n",
       "      <td>0fcc82ac9036388700264ad603fa516c</td>\n",
       "      <td>1643408303</td>\n",
       "      <td>gas_transport</td>\n",
       "      <td>72.68</td>\n",
       "      <td>0</td>\n",
       "      <td>George, Hicks and Krueger</td>\n",
       "      <td>33.009362</td>\n",
       "      <td>-118.740220</td>\n",
       "    </tr>\n",
       "  </tbody>\n",
       "</table>\n",
       "</div>"
      ],
      "text/plain": [
       "           cc_num      acct_num                         trans_num   unix_time  \\\n",
       "0  30292842222314  491227929210  f67c4b47cc6a418f9f1edb683b5af74d  1644271062   \n",
       "1  30292842222314  491227929210  d1b5ccc3f29477e14df905eda95908c4  1644085966   \n",
       "2  30292842222314  491227929210  a9aac8888d033bd07e90851638dd84fe  1647014898   \n",
       "3  30292842222314  491227929210  f2518539ccd7c1f2f41384345c9a768b  1646754763   \n",
       "4  30292842222314  491227929210  0fcc82ac9036388700264ad603fa516c  1643408303   \n",
       "\n",
       "        category    amt  is_fraud                      merchant  merch_lat  \\\n",
       "0  gas_transport  72.70         0        Miller, Solis and Vega  33.756152   \n",
       "1  gas_transport  73.14         0                 Dunn and Sons  34.684152   \n",
       "2    grocery_net  98.90         0                 Massey-Morgan  32.980310   \n",
       "3    grocery_net  85.81         0  Rodriguez, Thomas and Sexton  33.196887   \n",
       "4  gas_transport  72.68         0     George, Hicks and Krueger  33.009362   \n",
       "\n",
       "   merch_long  \n",
       "0 -118.180690  \n",
       "1 -118.072794  \n",
       "2 -118.407788  \n",
       "3 -118.124583  \n",
       "4 -118.740220  "
      ]
     },
     "execution_count": 84,
     "metadata": {},
     "output_type": "execute_result"
    }
   ],
   "source": [
    "# Display the first 5 rows of the dataset\n",
    "df6.head()"
   ]
  },
  {
   "cell_type": "code",
   "execution_count": 85,
   "metadata": {},
   "outputs": [
    {
     "data": {
      "text/plain": [
       "(49783, 10)"
      ]
     },
     "execution_count": 85,
     "metadata": {},
     "output_type": "execute_result"
    }
   ],
   "source": [
    "# Display the shape of the dataset\n",
    "df6.shape"
   ]
  },
  {
   "cell_type": "code",
   "execution_count": 86,
   "metadata": {},
   "outputs": [
    {
     "name": "stdout",
     "output_type": "stream",
     "text": [
      "<class 'pandas.core.frame.DataFrame'>\n",
      "RangeIndex: 49783 entries, 0 to 49782\n",
      "Data columns (total 10 columns):\n",
      " #   Column      Non-Null Count  Dtype  \n",
      "---  ------      --------------  -----  \n",
      " 0   cc_num      49783 non-null  int64  \n",
      " 1   acct_num    49783 non-null  int64  \n",
      " 2   trans_num   49783 non-null  object \n",
      " 3   unix_time   49783 non-null  int64  \n",
      " 4   category    49783 non-null  object \n",
      " 5   amt         49783 non-null  float64\n",
      " 6   is_fraud    49783 non-null  int64  \n",
      " 7   merchant    49783 non-null  object \n",
      " 8   merch_lat   49783 non-null  float64\n",
      " 9   merch_long  49783 non-null  float64\n",
      "dtypes: float64(3), int64(4), object(3)\n",
      "memory usage: 3.8+ MB\n"
     ]
    }
   ],
   "source": [
    "# Display information about the dataset\n",
    "df6.info()"
   ]
  },
  {
   "cell_type": "markdown",
   "metadata": {
    "cell_id": "168bf2f27dde42bdb7fc41a8842e20bf",
    "deepnote_cell_type": "text-cell-callout",
    "formattedRanges": []
   },
   "source": [
    "> Insights: \n",
    "* This Dataset has 49783 rows and 10 columns only.\n",
    "* There is no missing values in the dataset.\n",
    "* This Dataset has the exact same columns as the df0 Dataset."
   ]
  },
  {
   "cell_type": "code",
   "execution_count": 87,
   "metadata": {
    "cell_id": "c9b70d9cd2ca43f1adea14f639132b2b",
    "deepnote_cell_type": "code"
   },
   "outputs": [
    {
     "data": {
      "text/html": [
       "<div>\n",
       "<style scoped>\n",
       "    .dataframe tbody tr th:only-of-type {\n",
       "        vertical-align: middle;\n",
       "    }\n",
       "\n",
       "    .dataframe tbody tr th {\n",
       "        vertical-align: top;\n",
       "    }\n",
       "\n",
       "    .dataframe thead th {\n",
       "        text-align: right;\n",
       "    }\n",
       "</style>\n",
       "<table border=\"1\" class=\"dataframe\">\n",
       "  <thead>\n",
       "    <tr style=\"text-align: right;\">\n",
       "      <th></th>\n",
       "      <th>cc_num</th>\n",
       "      <th>acct_num</th>\n",
       "      <th>trans_num</th>\n",
       "      <th>unix_time</th>\n",
       "      <th>category</th>\n",
       "      <th>amt</th>\n",
       "      <th>is_fraud</th>\n",
       "      <th>merchant</th>\n",
       "      <th>merch_lat</th>\n",
       "      <th>merch_long</th>\n",
       "    </tr>\n",
       "  </thead>\n",
       "  <tbody>\n",
       "    <tr>\n",
       "      <th>0</th>\n",
       "      <td>180075851268619</td>\n",
       "      <td>406674938298</td>\n",
       "      <td>65e70cda0ed5404aa5a0a23a29c4fc4a</td>\n",
       "      <td>1645535543</td>\n",
       "      <td>gas_transport</td>\n",
       "      <td>105.99</td>\n",
       "      <td>0</td>\n",
       "      <td>Gomez-Salinas</td>\n",
       "      <td>46.639550</td>\n",
       "      <td>-122.725185</td>\n",
       "    </tr>\n",
       "    <tr>\n",
       "      <th>1</th>\n",
       "      <td>180075851268619</td>\n",
       "      <td>406674938298</td>\n",
       "      <td>014fc38f9497a5161138184803ea0198</td>\n",
       "      <td>1643041238</td>\n",
       "      <td>gas_transport</td>\n",
       "      <td>60.40</td>\n",
       "      <td>0</td>\n",
       "      <td>Perez Group</td>\n",
       "      <td>46.825744</td>\n",
       "      <td>-121.333638</td>\n",
       "    </tr>\n",
       "    <tr>\n",
       "      <th>2</th>\n",
       "      <td>180075851268619</td>\n",
       "      <td>406674938298</td>\n",
       "      <td>2dc312d56e88080af894cb282ccf2bf5</td>\n",
       "      <td>1649709546</td>\n",
       "      <td>grocery_pos</td>\n",
       "      <td>70.69</td>\n",
       "      <td>0</td>\n",
       "      <td>Gonzalez, Yang and Lee</td>\n",
       "      <td>47.882733</td>\n",
       "      <td>-122.170536</td>\n",
       "    </tr>\n",
       "    <tr>\n",
       "      <th>3</th>\n",
       "      <td>180075851268619</td>\n",
       "      <td>406674938298</td>\n",
       "      <td>d879251f9157585d3d25b84e937281a4</td>\n",
       "      <td>1646177416</td>\n",
       "      <td>grocery_net</td>\n",
       "      <td>61.95</td>\n",
       "      <td>0</td>\n",
       "      <td>Peterson-Gonzales</td>\n",
       "      <td>46.203355</td>\n",
       "      <td>-122.181655</td>\n",
       "    </tr>\n",
       "    <tr>\n",
       "      <th>4</th>\n",
       "      <td>180075851268619</td>\n",
       "      <td>406674938298</td>\n",
       "      <td>6109470955b860339f76f42dd31a7dfb</td>\n",
       "      <td>1650122092</td>\n",
       "      <td>grocery_pos</td>\n",
       "      <td>62.78</td>\n",
       "      <td>0</td>\n",
       "      <td>Adkins-Strickland</td>\n",
       "      <td>47.262153</td>\n",
       "      <td>-121.543893</td>\n",
       "    </tr>\n",
       "  </tbody>\n",
       "</table>\n",
       "</div>"
      ],
      "text/plain": [
       "            cc_num      acct_num                         trans_num  \\\n",
       "0  180075851268619  406674938298  65e70cda0ed5404aa5a0a23a29c4fc4a   \n",
       "1  180075851268619  406674938298  014fc38f9497a5161138184803ea0198   \n",
       "2  180075851268619  406674938298  2dc312d56e88080af894cb282ccf2bf5   \n",
       "3  180075851268619  406674938298  d879251f9157585d3d25b84e937281a4   \n",
       "4  180075851268619  406674938298  6109470955b860339f76f42dd31a7dfb   \n",
       "\n",
       "    unix_time       category     amt  is_fraud                merchant  \\\n",
       "0  1645535543  gas_transport  105.99         0           Gomez-Salinas   \n",
       "1  1643041238  gas_transport   60.40         0             Perez Group   \n",
       "2  1649709546    grocery_pos   70.69         0  Gonzalez, Yang and Lee   \n",
       "3  1646177416    grocery_net   61.95         0       Peterson-Gonzales   \n",
       "4  1650122092    grocery_pos   62.78         0       Adkins-Strickland   \n",
       "\n",
       "   merch_lat  merch_long  \n",
       "0  46.639550 -122.725185  \n",
       "1  46.825744 -121.333638  \n",
       "2  47.882733 -122.170536  \n",
       "3  46.203355 -122.181655  \n",
       "4  47.262153 -121.543893  "
      ]
     },
     "execution_count": 87,
     "metadata": {},
     "output_type": "execute_result"
    }
   ],
   "source": [
    "# Display the first 5 rows of the dataset\n",
    "df7.head()"
   ]
  },
  {
   "cell_type": "code",
   "execution_count": 88,
   "metadata": {},
   "outputs": [
    {
     "data": {
      "text/plain": [
       "(36539, 10)"
      ]
     },
     "execution_count": 88,
     "metadata": {},
     "output_type": "execute_result"
    }
   ],
   "source": [
    "# Display the shape of the dataset\n",
    "df7.shape"
   ]
  },
  {
   "cell_type": "code",
   "execution_count": 89,
   "metadata": {},
   "outputs": [
    {
     "name": "stdout",
     "output_type": "stream",
     "text": [
      "<class 'pandas.core.frame.DataFrame'>\n",
      "RangeIndex: 36539 entries, 0 to 36538\n",
      "Data columns (total 10 columns):\n",
      " #   Column      Non-Null Count  Dtype  \n",
      "---  ------      --------------  -----  \n",
      " 0   cc_num      36539 non-null  int64  \n",
      " 1   acct_num    36539 non-null  int64  \n",
      " 2   trans_num   36539 non-null  object \n",
      " 3   unix_time   36539 non-null  int64  \n",
      " 4   category    36539 non-null  object \n",
      " 5   amt         36539 non-null  float64\n",
      " 6   is_fraud    36539 non-null  int64  \n",
      " 7   merchant    36539 non-null  object \n",
      " 8   merch_lat   36539 non-null  float64\n",
      " 9   merch_long  36539 non-null  float64\n",
      "dtypes: float64(3), int64(4), object(3)\n",
      "memory usage: 2.8+ MB\n"
     ]
    }
   ],
   "source": [
    "# Display information about the dataset\n",
    "df7.info()"
   ]
  },
  {
   "cell_type": "markdown",
   "metadata": {
    "cell_id": "ff0e4de1ccbf4c25aa2a036034123cd8",
    "deepnote_cell_type": "text-cell-callout",
    "formattedRanges": []
   },
   "source": [
    "> Insights: \n",
    "* This Dataset has 36539 rows and 10 columns only.\n",
    "* There is no missing values in the dataset.\n",
    "* This Dataset has the exact same columns as the df0 Dataset."
   ]
  },
  {
   "cell_type": "code",
   "execution_count": 90,
   "metadata": {
    "cell_id": "d63f73b00c21461da568e1b5e15967ba",
    "deepnote_cell_type": "code"
   },
   "outputs": [
    {
     "data": {
      "text/html": [
       "<div>\n",
       "<style scoped>\n",
       "    .dataframe tbody tr th:only-of-type {\n",
       "        vertical-align: middle;\n",
       "    }\n",
       "\n",
       "    .dataframe tbody tr th {\n",
       "        vertical-align: top;\n",
       "    }\n",
       "\n",
       "    .dataframe thead th {\n",
       "        text-align: right;\n",
       "    }\n",
       "</style>\n",
       "<table border=\"1\" class=\"dataframe\">\n",
       "  <thead>\n",
       "    <tr style=\"text-align: right;\">\n",
       "      <th></th>\n",
       "      <th>cc_num</th>\n",
       "      <th>acct_num</th>\n",
       "      <th>trans_num</th>\n",
       "      <th>unix_time</th>\n",
       "      <th>category</th>\n",
       "      <th>amt</th>\n",
       "      <th>is_fraud</th>\n",
       "      <th>merchant</th>\n",
       "      <th>merch_lat</th>\n",
       "      <th>merch_long</th>\n",
       "    </tr>\n",
       "  </thead>\n",
       "  <tbody>\n",
       "    <tr>\n",
       "      <th>0</th>\n",
       "      <td>30160398863650</td>\n",
       "      <td>652941429071</td>\n",
       "      <td>9c6f65115717064fd0349d1dbd02d9be</td>\n",
       "      <td>1650897750</td>\n",
       "      <td>grocery_pos</td>\n",
       "      <td>9.89</td>\n",
       "      <td>1</td>\n",
       "      <td>Vazquez LLC</td>\n",
       "      <td>40.273363</td>\n",
       "      <td>-75.822797</td>\n",
       "    </tr>\n",
       "    <tr>\n",
       "      <th>1</th>\n",
       "      <td>30160398863650</td>\n",
       "      <td>652941429071</td>\n",
       "      <td>f1a327c9e7a6638f9cb8199de0a7a731</td>\n",
       "      <td>1650899044</td>\n",
       "      <td>gas_transport</td>\n",
       "      <td>9.89</td>\n",
       "      <td>1</td>\n",
       "      <td>Hall PLC</td>\n",
       "      <td>39.345601</td>\n",
       "      <td>-75.875301</td>\n",
       "    </tr>\n",
       "    <tr>\n",
       "      <th>2</th>\n",
       "      <td>30160398863650</td>\n",
       "      <td>652941429071</td>\n",
       "      <td>dac2627d627e8f346b364d8da8f555a3</td>\n",
       "      <td>1650903412</td>\n",
       "      <td>gas_transport</td>\n",
       "      <td>14.00</td>\n",
       "      <td>1</td>\n",
       "      <td>Johnson LLC</td>\n",
       "      <td>40.812858</td>\n",
       "      <td>-75.677036</td>\n",
       "    </tr>\n",
       "    <tr>\n",
       "      <th>3</th>\n",
       "      <td>30160398863650</td>\n",
       "      <td>652941429071</td>\n",
       "      <td>d14a889f8447f3cd418d45d2092fdb27</td>\n",
       "      <td>1650907403</td>\n",
       "      <td>grocery_pos</td>\n",
       "      <td>311.63</td>\n",
       "      <td>1</td>\n",
       "      <td>Turner LLC</td>\n",
       "      <td>39.817482</td>\n",
       "      <td>-74.938757</td>\n",
       "    </tr>\n",
       "    <tr>\n",
       "      <th>4</th>\n",
       "      <td>30160398863650</td>\n",
       "      <td>652941429071</td>\n",
       "      <td>7b904cdea24bf406502fa215ef023101</td>\n",
       "      <td>1650936529</td>\n",
       "      <td>gas_transport</td>\n",
       "      <td>291.33</td>\n",
       "      <td>1</td>\n",
       "      <td>Rivera, Chavez and Davis</td>\n",
       "      <td>39.207293</td>\n",
       "      <td>-74.229907</td>\n",
       "    </tr>\n",
       "  </tbody>\n",
       "</table>\n",
       "</div>"
      ],
      "text/plain": [
       "           cc_num      acct_num                         trans_num   unix_time  \\\n",
       "0  30160398863650  652941429071  9c6f65115717064fd0349d1dbd02d9be  1650897750   \n",
       "1  30160398863650  652941429071  f1a327c9e7a6638f9cb8199de0a7a731  1650899044   \n",
       "2  30160398863650  652941429071  dac2627d627e8f346b364d8da8f555a3  1650903412   \n",
       "3  30160398863650  652941429071  d14a889f8447f3cd418d45d2092fdb27  1650907403   \n",
       "4  30160398863650  652941429071  7b904cdea24bf406502fa215ef023101  1650936529   \n",
       "\n",
       "        category     amt  is_fraud                  merchant  merch_lat  \\\n",
       "0    grocery_pos    9.89         1               Vazquez LLC  40.273363   \n",
       "1  gas_transport    9.89         1                  Hall PLC  39.345601   \n",
       "2  gas_transport   14.00         1               Johnson LLC  40.812858   \n",
       "3    grocery_pos  311.63         1                Turner LLC  39.817482   \n",
       "4  gas_transport  291.33         1  Rivera, Chavez and Davis  39.207293   \n",
       "\n",
       "   merch_long  \n",
       "0  -75.822797  \n",
       "1  -75.875301  \n",
       "2  -75.677036  \n",
       "3  -74.938757  \n",
       "4  -74.229907  "
      ]
     },
     "execution_count": 90,
     "metadata": {},
     "output_type": "execute_result"
    }
   ],
   "source": [
    "# Display the first 5 rows of the dataset\n",
    "df8.head()"
   ]
  },
  {
   "cell_type": "code",
   "execution_count": 91,
   "metadata": {},
   "outputs": [
    {
     "data": {
      "text/plain": [
       "(40887, 10)"
      ]
     },
     "execution_count": 91,
     "metadata": {},
     "output_type": "execute_result"
    }
   ],
   "source": [
    "# Display the shape of the dataset\n",
    "df8.shape"
   ]
  },
  {
   "cell_type": "code",
   "execution_count": 92,
   "metadata": {},
   "outputs": [
    {
     "name": "stdout",
     "output_type": "stream",
     "text": [
      "<class 'pandas.core.frame.DataFrame'>\n",
      "RangeIndex: 40887 entries, 0 to 40886\n",
      "Data columns (total 10 columns):\n",
      " #   Column      Non-Null Count  Dtype  \n",
      "---  ------      --------------  -----  \n",
      " 0   cc_num      40887 non-null  int64  \n",
      " 1   acct_num    40887 non-null  int64  \n",
      " 2   trans_num   40887 non-null  object \n",
      " 3   unix_time   40887 non-null  int64  \n",
      " 4   category    40887 non-null  object \n",
      " 5   amt         40887 non-null  float64\n",
      " 6   is_fraud    40887 non-null  int64  \n",
      " 7   merchant    40887 non-null  object \n",
      " 8   merch_lat   40887 non-null  float64\n",
      " 9   merch_long  40887 non-null  float64\n",
      "dtypes: float64(3), int64(4), object(3)\n",
      "memory usage: 3.1+ MB\n"
     ]
    }
   ],
   "source": [
    "# Display information about the dataset\n",
    "df8.info()"
   ]
  },
  {
   "cell_type": "markdown",
   "metadata": {
    "cell_id": "41e1efa71f1848448557e854f9c13d15",
    "deepnote_cell_type": "text-cell-callout",
    "formattedRanges": []
   },
   "source": [
    "> Insights: \n",
    "* This Dataset has 40887 rows and 10 columns only.\n",
    "* There is no missing values in the dataset.\n",
    "* This Dataset has the exact same columns as the df0 Dataset."
   ]
  },
  {
   "cell_type": "code",
   "execution_count": 93,
   "metadata": {
    "cell_id": "82a7e4aed1d547b7abf9801a808a8440",
    "deepnote_cell_type": "code"
   },
   "outputs": [
    {
     "data": {
      "text/html": [
       "<div>\n",
       "<style scoped>\n",
       "    .dataframe tbody tr th:only-of-type {\n",
       "        vertical-align: middle;\n",
       "    }\n",
       "\n",
       "    .dataframe tbody tr th {\n",
       "        vertical-align: top;\n",
       "    }\n",
       "\n",
       "    .dataframe thead th {\n",
       "        text-align: right;\n",
       "    }\n",
       "</style>\n",
       "<table border=\"1\" class=\"dataframe\">\n",
       "  <thead>\n",
       "    <tr style=\"text-align: right;\">\n",
       "      <th></th>\n",
       "      <th>cc_num</th>\n",
       "      <th>acct_num</th>\n",
       "      <th>trans_num</th>\n",
       "      <th>unix_time</th>\n",
       "      <th>category</th>\n",
       "      <th>amt</th>\n",
       "      <th>is_fraud</th>\n",
       "      <th>merchant</th>\n",
       "      <th>merch_lat</th>\n",
       "      <th>merch_long</th>\n",
       "    </tr>\n",
       "  </thead>\n",
       "  <tbody>\n",
       "    <tr>\n",
       "      <th>0</th>\n",
       "      <td>377480957394058</td>\n",
       "      <td>256845189467</td>\n",
       "      <td>e7230464158f9c7b3a95923b5c823b51</td>\n",
       "      <td>1661612144</td>\n",
       "      <td>grocery_pos</td>\n",
       "      <td>287.93</td>\n",
       "      <td>1</td>\n",
       "      <td>Stewart Ltd</td>\n",
       "      <td>41.005191</td>\n",
       "      <td>-88.628379</td>\n",
       "    </tr>\n",
       "    <tr>\n",
       "      <th>1</th>\n",
       "      <td>377480957394058</td>\n",
       "      <td>256845189467</td>\n",
       "      <td>0b133e54ec978323484101526f755f42</td>\n",
       "      <td>1661614535</td>\n",
       "      <td>misc_net</td>\n",
       "      <td>741.26</td>\n",
       "      <td>1</td>\n",
       "      <td>Carr Group</td>\n",
       "      <td>42.698003</td>\n",
       "      <td>-88.813593</td>\n",
       "    </tr>\n",
       "    <tr>\n",
       "      <th>2</th>\n",
       "      <td>377480957394058</td>\n",
       "      <td>256845189467</td>\n",
       "      <td>13c29592d84ed12d984bd2e576036b65</td>\n",
       "      <td>1661694841</td>\n",
       "      <td>shopping_net</td>\n",
       "      <td>638.63</td>\n",
       "      <td>1</td>\n",
       "      <td>Garcia-Hunt</td>\n",
       "      <td>42.501350</td>\n",
       "      <td>-87.422601</td>\n",
       "    </tr>\n",
       "    <tr>\n",
       "      <th>3</th>\n",
       "      <td>377480957394058</td>\n",
       "      <td>256845189467</td>\n",
       "      <td>b5f0f7be02536085856020229a958336</td>\n",
       "      <td>1661688865</td>\n",
       "      <td>shopping_net</td>\n",
       "      <td>1121.18</td>\n",
       "      <td>1</td>\n",
       "      <td>Boyer, Price and Chan</td>\n",
       "      <td>42.333992</td>\n",
       "      <td>-87.232013</td>\n",
       "    </tr>\n",
       "    <tr>\n",
       "      <th>4</th>\n",
       "      <td>377480957394058</td>\n",
       "      <td>256845189467</td>\n",
       "      <td>be6643f660ef4407b2067cd9d6870562</td>\n",
       "      <td>1661694681</td>\n",
       "      <td>shopping_net</td>\n",
       "      <td>898.54</td>\n",
       "      <td>1</td>\n",
       "      <td>Kent-Ortiz</td>\n",
       "      <td>41.010402</td>\n",
       "      <td>-88.028739</td>\n",
       "    </tr>\n",
       "  </tbody>\n",
       "</table>\n",
       "</div>"
      ],
      "text/plain": [
       "            cc_num      acct_num                         trans_num  \\\n",
       "0  377480957394058  256845189467  e7230464158f9c7b3a95923b5c823b51   \n",
       "1  377480957394058  256845189467  0b133e54ec978323484101526f755f42   \n",
       "2  377480957394058  256845189467  13c29592d84ed12d984bd2e576036b65   \n",
       "3  377480957394058  256845189467  b5f0f7be02536085856020229a958336   \n",
       "4  377480957394058  256845189467  be6643f660ef4407b2067cd9d6870562   \n",
       "\n",
       "    unix_time      category      amt  is_fraud               merchant  \\\n",
       "0  1661612144   grocery_pos   287.93         1            Stewart Ltd   \n",
       "1  1661614535      misc_net   741.26         1             Carr Group   \n",
       "2  1661694841  shopping_net   638.63         1            Garcia-Hunt   \n",
       "3  1661688865  shopping_net  1121.18         1  Boyer, Price and Chan   \n",
       "4  1661694681  shopping_net   898.54         1             Kent-Ortiz   \n",
       "\n",
       "   merch_lat  merch_long  \n",
       "0  41.005191  -88.628379  \n",
       "1  42.698003  -88.813593  \n",
       "2  42.501350  -87.422601  \n",
       "3  42.333992  -87.232013  \n",
       "4  41.010402  -88.028739  "
      ]
     },
     "execution_count": 93,
     "metadata": {},
     "output_type": "execute_result"
    }
   ],
   "source": [
    "# Display the first 5 rows of the dataset\n",
    "df9.head()"
   ]
  },
  {
   "cell_type": "code",
   "execution_count": 94,
   "metadata": {},
   "outputs": [
    {
     "data": {
      "text/plain": [
       "(56249, 10)"
      ]
     },
     "execution_count": 94,
     "metadata": {},
     "output_type": "execute_result"
    }
   ],
   "source": [
    "# Display the shape of the dataset\n",
    "df9.shape"
   ]
  },
  {
   "cell_type": "code",
   "execution_count": 95,
   "metadata": {},
   "outputs": [
    {
     "name": "stdout",
     "output_type": "stream",
     "text": [
      "<class 'pandas.core.frame.DataFrame'>\n",
      "RangeIndex: 56249 entries, 0 to 56248\n",
      "Data columns (total 10 columns):\n",
      " #   Column      Non-Null Count  Dtype  \n",
      "---  ------      --------------  -----  \n",
      " 0   cc_num      56249 non-null  int64  \n",
      " 1   acct_num    56249 non-null  int64  \n",
      " 2   trans_num   56249 non-null  object \n",
      " 3   unix_time   56249 non-null  int64  \n",
      " 4   category    56249 non-null  object \n",
      " 5   amt         56249 non-null  float64\n",
      " 6   is_fraud    56249 non-null  int64  \n",
      " 7   merchant    56249 non-null  object \n",
      " 8   merch_lat   56249 non-null  float64\n",
      " 9   merch_long  56249 non-null  float64\n",
      "dtypes: float64(3), int64(4), object(3)\n",
      "memory usage: 4.3+ MB\n"
     ]
    }
   ],
   "source": [
    "# Display information about the dataset\n",
    "df9.info()"
   ]
  },
  {
   "cell_type": "markdown",
   "metadata": {
    "cell_id": "3c8856cdec9b4b2bac8f8f18a1bf7403",
    "deepnote_cell_type": "text-cell-callout",
    "formattedRanges": []
   },
   "source": [
    "> Insights: \n",
    "* This Dataset has 56249 rows and 10 columns only.\n",
    "* There is no missing values in the dataset.\n",
    "* This Dataset has the exact same columns as the df0 Dataset."
   ]
  },
  {
   "cell_type": "markdown",
   "metadata": {
    "cell_id": "f1f202471ea042898c0e447c92dd8457",
    "color": "yellow",
    "deepnote_cell_type": "text-cell-callout",
    "formattedRanges": []
   },
   "source": [
    "> Considerations: \n",
    "* There are multiple datasets with differing row counts (ranging from 0 to 56,249) but containing the same 10 columns. This allows for straightforward merging into a single dataset for unified analysis.\n",
    "* All datasets have no missing values in any of the columns.\n",
    "* Identifiers such as cc_num, acct_num, and trans_num may not directly contribute to predictive analysis and should be reviewed for relevance.\n",
    "* Both numerical (e.g., amt, merch_lat, merch_long) and categorical (e.g., category, merchant) features are present, requiring preprocessing steps like encoding before clustering or predictive modeling."
   ]
  },
  {
   "cell_type": "markdown",
   "metadata": {
    "cell_id": "4970d2d9121647f0aea46906b5e9d68a",
    "color": "red",
    "deepnote_cell_type": "text-cell-callout",
    "formattedRanges": []
   },
   "source": [
    "> Issues found: \n",
    "* Empty datasets (e.g., df1 and df3) may interfere with analysis or merging processes and should be handled or excluded.\n",
    "* Transaction identifiers (cc_num, acct_num, and trans_num) may not provide valuable insights for clustering and could complicate data interpretation, so they should be carefully reviewed for relevance.\n",
    "* Dataset merging may present challenges due to different row counts across datasets, necessitating a strategy for seamless integration."
   ]
  },
  {
   "cell_type": "markdown",
   "metadata": {
    "cell_id": "df87c73318364bd6bec1cb259e47e9d8",
    "deepnote_cell_type": "separator"
   },
   "source": [
    "<hr>"
   ]
  },
  {
   "cell_type": "markdown",
   "metadata": {},
   "source": [
    "## Final Dataset"
   ]
  },
  {
   "cell_type": "code",
   "execution_count": 96,
   "metadata": {},
   "outputs": [],
   "source": [
    "# Combine all the rural datasets into one using concat method from pandas\n",
    "df_rural=pd.concat([df0,df2,df4], ignore_index=True)"
   ]
  },
  {
   "cell_type": "code",
   "execution_count": 97,
   "metadata": {},
   "outputs": [],
   "source": [
    "# Combine all the urban datasets into one using concat method from pandas\n",
    "df_urban=pd.concat([df5,df6,df7,df8,df9], ignore_index=True)\n"
   ]
  },
  {
   "cell_type": "code",
   "execution_count": 98,
   "metadata": {},
   "outputs": [
    {
     "data": {
      "text/plain": [
       "(5737, 10)"
      ]
     },
     "execution_count": 98,
     "metadata": {},
     "output_type": "execute_result"
    }
   ],
   "source": [
    "# Display the shape of the dataset\n",
    "df_rural.shape"
   ]
  },
  {
   "cell_type": "code",
   "execution_count": 99,
   "metadata": {},
   "outputs": [
    {
     "data": {
      "text/plain": [
       "(227140, 10)"
      ]
     },
     "execution_count": 99,
     "metadata": {},
     "output_type": "execute_result"
    }
   ],
   "source": [
    "# Display the shape of the dataset\n",
    "df_urban.shape"
   ]
  },
  {
   "cell_type": "code",
   "execution_count": 100,
   "metadata": {},
   "outputs": [],
   "source": [
    "# Combine the rural and urban datasets into one using concat method from pandas\n",
    "df_male=pd.concat([df_rural,df_urban],ignore_index=True)"
   ]
  },
  {
   "cell_type": "code",
   "execution_count": 101,
   "metadata": {},
   "outputs": [
    {
     "data": {
      "text/html": [
       "<div>\n",
       "<style scoped>\n",
       "    .dataframe tbody tr th:only-of-type {\n",
       "        vertical-align: middle;\n",
       "    }\n",
       "\n",
       "    .dataframe tbody tr th {\n",
       "        vertical-align: top;\n",
       "    }\n",
       "\n",
       "    .dataframe thead th {\n",
       "        text-align: right;\n",
       "    }\n",
       "</style>\n",
       "<table border=\"1\" class=\"dataframe\">\n",
       "  <thead>\n",
       "    <tr style=\"text-align: right;\">\n",
       "      <th></th>\n",
       "      <th>cc_num</th>\n",
       "      <th>acct_num</th>\n",
       "      <th>trans_num</th>\n",
       "      <th>unix_time</th>\n",
       "      <th>category</th>\n",
       "      <th>amt</th>\n",
       "      <th>is_fraud</th>\n",
       "      <th>merchant</th>\n",
       "      <th>merch_lat</th>\n",
       "      <th>merch_long</th>\n",
       "    </tr>\n",
       "  </thead>\n",
       "  <tbody>\n",
       "    <tr>\n",
       "      <th>0</th>\n",
       "      <td>6011034324451072</td>\n",
       "      <td>347300118003</td>\n",
       "      <td>5fd8114f0a9e6173c4b6b2d4a1357629</td>\n",
       "      <td>1642086410</td>\n",
       "      <td>gas_transport</td>\n",
       "      <td>67.37</td>\n",
       "      <td>0</td>\n",
       "      <td>Kent PLC</td>\n",
       "      <td>31.722756</td>\n",
       "      <td>-109.043992</td>\n",
       "    </tr>\n",
       "    <tr>\n",
       "      <th>1</th>\n",
       "      <td>6011034324451072</td>\n",
       "      <td>347300118003</td>\n",
       "      <td>cc6a2a82b2e153d17a61a89b3998f010</td>\n",
       "      <td>1655946207</td>\n",
       "      <td>shopping_pos</td>\n",
       "      <td>71.92</td>\n",
       "      <td>0</td>\n",
       "      <td>Smith, Taylor and Palmer</td>\n",
       "      <td>32.666096</td>\n",
       "      <td>-108.996380</td>\n",
       "    </tr>\n",
       "    <tr>\n",
       "      <th>2</th>\n",
       "      <td>6011034324451072</td>\n",
       "      <td>347300118003</td>\n",
       "      <td>036a0c03732a15f6e14a78ebc3954786</td>\n",
       "      <td>1647697745</td>\n",
       "      <td>grocery_pos</td>\n",
       "      <td>76.54</td>\n",
       "      <td>0</td>\n",
       "      <td>Johnson Group</td>\n",
       "      <td>31.681885</td>\n",
       "      <td>-110.087164</td>\n",
       "    </tr>\n",
       "    <tr>\n",
       "      <th>3</th>\n",
       "      <td>6011034324451072</td>\n",
       "      <td>347300118003</td>\n",
       "      <td>ea3861ae99d1115d28df7e9c3a93e819</td>\n",
       "      <td>1647995663</td>\n",
       "      <td>grocery_pos</td>\n",
       "      <td>63.04</td>\n",
       "      <td>0</td>\n",
       "      <td>Adams Ltd</td>\n",
       "      <td>31.643283</td>\n",
       "      <td>-108.291944</td>\n",
       "    </tr>\n",
       "    <tr>\n",
       "      <th>4</th>\n",
       "      <td>6011034324451072</td>\n",
       "      <td>347300118003</td>\n",
       "      <td>1106c5d5f386d895e1f159a1f0f25699</td>\n",
       "      <td>1649186549</td>\n",
       "      <td>grocery_pos</td>\n",
       "      <td>83.62</td>\n",
       "      <td>0</td>\n",
       "      <td>Pratt, Joyce and Barajas</td>\n",
       "      <td>31.581803</td>\n",
       "      <td>-110.153007</td>\n",
       "    </tr>\n",
       "  </tbody>\n",
       "</table>\n",
       "</div>"
      ],
      "text/plain": [
       "             cc_num      acct_num                         trans_num  \\\n",
       "0  6011034324451072  347300118003  5fd8114f0a9e6173c4b6b2d4a1357629   \n",
       "1  6011034324451072  347300118003  cc6a2a82b2e153d17a61a89b3998f010   \n",
       "2  6011034324451072  347300118003  036a0c03732a15f6e14a78ebc3954786   \n",
       "3  6011034324451072  347300118003  ea3861ae99d1115d28df7e9c3a93e819   \n",
       "4  6011034324451072  347300118003  1106c5d5f386d895e1f159a1f0f25699   \n",
       "\n",
       "    unix_time       category    amt  is_fraud                  merchant  \\\n",
       "0  1642086410  gas_transport  67.37         0                  Kent PLC   \n",
       "1  1655946207   shopping_pos  71.92         0  Smith, Taylor and Palmer   \n",
       "2  1647697745    grocery_pos  76.54         0             Johnson Group   \n",
       "3  1647995663    grocery_pos  63.04         0                 Adams Ltd   \n",
       "4  1649186549    grocery_pos  83.62         0  Pratt, Joyce and Barajas   \n",
       "\n",
       "   merch_lat  merch_long  \n",
       "0  31.722756 -109.043992  \n",
       "1  32.666096 -108.996380  \n",
       "2  31.681885 -110.087164  \n",
       "3  31.643283 -108.291944  \n",
       "4  31.581803 -110.153007  "
      ]
     },
     "execution_count": 101,
     "metadata": {},
     "output_type": "execute_result"
    }
   ],
   "source": [
    "# Display the first 5 rows of the dataset\n",
    "df_male.head()"
   ]
  },
  {
   "cell_type": "code",
   "execution_count": 102,
   "metadata": {},
   "outputs": [
    {
     "data": {
      "text/plain": [
       "(232877, 10)"
      ]
     },
     "execution_count": 102,
     "metadata": {},
     "output_type": "execute_result"
    }
   ],
   "source": [
    "# Display the shape of the dataset\n",
    "df_male.shape"
   ]
  },
  {
   "cell_type": "code",
   "execution_count": 103,
   "metadata": {},
   "outputs": [
    {
     "name": "stdout",
     "output_type": "stream",
     "text": [
      "<class 'pandas.core.frame.DataFrame'>\n",
      "RangeIndex: 232877 entries, 0 to 232876\n",
      "Data columns (total 10 columns):\n",
      " #   Column      Non-Null Count   Dtype  \n",
      "---  ------      --------------   -----  \n",
      " 0   cc_num      232877 non-null  int64  \n",
      " 1   acct_num    232877 non-null  int64  \n",
      " 2   trans_num   232877 non-null  object \n",
      " 3   unix_time   232877 non-null  int64  \n",
      " 4   category    232877 non-null  object \n",
      " 5   amt         232877 non-null  float64\n",
      " 6   is_fraud    232877 non-null  int64  \n",
      " 7   merchant    232877 non-null  object \n",
      " 8   merch_lat   232877 non-null  float64\n",
      " 9   merch_long  232877 non-null  float64\n",
      "dtypes: float64(3), int64(4), object(3)\n",
      "memory usage: 17.8+ MB\n"
     ]
    }
   ],
   "source": [
    "# Display information about the dataset\n",
    "df_male.info()"
   ]
  },
  {
   "cell_type": "markdown",
   "metadata": {},
   "source": [
    "> Insights: \n",
    "* All the datasets have been combined into a single dataset named df_male.\n",
    "* The empty datasets df1 and df3 were excluded from the concat method.\n",
    "* The final dataset has 232877 rows and 10 columns.\n",
    "* The final dataset has no missing values."
   ]
  },
  {
   "cell_type": "markdown",
   "metadata": {
    "cell_id": "94a3343fe9054a8ba9311914f4dca959",
    "deepnote_cell_type": "separator"
   },
   "source": [
    "<hr>"
   ]
  },
  {
   "cell_type": "markdown",
   "metadata": {
    "cell_id": "39f45db58f3742e1b9579fdf116a2543",
    "deepnote_cell_type": "markdown",
    "id": "dqVN0F2shez3"
   },
   "source": [
    "### B.3 Explore Variables of Interest"
   ]
  },
  {
   "cell_type": "markdown",
   "metadata": {
    "cell_id": "9a35b414e6aa481cb9a934c3675df8b9",
    "deepnote_cell_type": "separator"
   },
   "source": [
    "<hr>"
   ]
  },
  {
   "cell_type": "markdown",
   "metadata": {
    "cell_id": "82656b2f2bf847328484065bddacf900",
    "deepnote_cell_type": "markdown"
   },
   "source": [
    "#### B.3.a Feature \"amt\""
   ]
  },
  {
   "cell_type": "code",
   "execution_count": 104,
   "metadata": {
    "cell_id": "a38cbac4f8a64d058078ecd877c0ff74",
    "deepnote_cell_type": "code",
    "id": "vA52cCK8hez3"
   },
   "outputs": [
    {
     "data": {
      "text/plain": [
       "count    232877.000000\n",
       "mean         60.434561\n",
       "std         175.844323\n",
       "min           1.000000\n",
       "25%           8.150000\n",
       "50%          38.850000\n",
       "75%          70.660000\n",
       "max       25159.920000\n",
       "Name: amt, dtype: float64"
      ]
     },
     "execution_count": 104,
     "metadata": {},
     "output_type": "execute_result"
    }
   ],
   "source": [
    "# Display the summary statistics\n",
    "df_male['amt'].describe()"
   ]
  },
  {
   "cell_type": "markdown",
   "metadata": {
    "cell_id": "2e0e520a5e8e4d2a899d4f299ed42e57",
    "deepnote_cell_type": "text-cell-callout",
    "formattedRanges": []
   },
   "source": [
    "> Insights: \n",
    "* Mean: The average transaction amount is 60.43, suggesting that most transactions are relatively low in value.\n",
    "* Standard Deviation (std): With a high standard deviation of 175.84, the transaction amounts are widely spread, suggesting significant variability.\n",
    "* Min and Max Values: The minimum transaction is 1, and the maximum is a notably high 25,159.92, indicating possible outliers or infrequent large transactions.\n",
    "* Quartiles:\n",
    "    * 25th percentile (Q1): 8.15\n",
    "    * Median (50th percentile): 38.85\n",
    "    * 75th percentile (Q3): 70.66\n",
    "\n",
    "These quartiles show that most transaction amounts are concentrated in the lower range, with only a few very high transactions pushing up the mean."
   ]
  },
  {
   "cell_type": "code",
   "execution_count": 105,
   "metadata": {},
   "outputs": [
    {
     "data": {
      "text/plain": [
       "Text(0.5, 1.0, 'Distribution of Transaction Amounts')"
      ]
     },
     "execution_count": 105,
     "metadata": {},
     "output_type": "execute_result"
    },
    {
     "data": {
      "image/png": "[encoded data removed]",
      "text/plain": [
       "<Figure size 1000x600 with 1 Axes>"
      ]
     },
     "metadata": {},
     "output_type": "display_data"
    }
   ],
   "source": [
    "# Create histogram for transaction amount with limited y-axis\n",
    "plt.figure(figsize=(10, 6))\n",
    "sns.histplot(data=df_male, x='amt', bins=50)  \n",
    "plt.ylim(0, 4000)  # Limit y-axis to focus on main range\n",
    "plt.xlabel(\"Transaction Amount\")\n",
    "plt.ylabel(\"Frequency\")\n",
    "plt.title(\"Distribution of Transaction Amounts\")"
   ]
  },
  {
   "cell_type": "code",
   "execution_count": 106,
   "metadata": {
    "cell_id": "500c348b1d9248b5a6749735304b921a",
    "deepnote_cell_type": "code",
    "id": "3iFw1jLzhez3"
   },
   "outputs": [
    {
     "data": {
      "text/plain": [
       "Text(0.5, 1.0, 'Boxplot of Transaction Amounts')"
      ]
     },
     "execution_count": 106,
     "metadata": {},
     "output_type": "execute_result"
    },
    {
     "data": {
      "image/png": "[encoded data removed]",
      "text/plain": [
       "<Figure size 1000x600 with 1 Axes>"
      ]
     },
     "metadata": {},
     "output_type": "display_data"
    }
   ],
   "source": [
    "# Create boxplot for transaction amount\n",
    "plt.figure(figsize=(10, 6))\n",
    "sns.boxplot(data=df_male, x='amt')\n",
    "plt.xlabel(\"Transaction Amount\")\n",
    "plt.title(\"Boxplot of Transaction Amounts\")"
   ]
  },
  {
   "cell_type": "markdown",
   "metadata": {
    "cell_id": "ce02ac711f4643098bf4e9f6801a78ed",
    "deepnote_cell_type": "text-cell-callout",
    "formattedRanges": []
   },
   "source": [
    "> Insights: \n",
    "* The histogram and box plot reveal the presence of significant outliers, which should be addressed during data preprocessing to avoid skewed analysis.\n",
    "* Most transaction values are within a range of 5000, suggesting that the majority of transactions are lower in value, with only a few high-value transactions."
   ]
  },
  {
   "cell_type": "markdown",
   "metadata": {
    "cell_id": "ee8251b458d044249707dc01d28a4b81",
    "color": "yellow",
    "deepnote_cell_type": "text-cell-callout",
    "formattedRanges": []
   },
   "source": [
    "> Considerations: \n",
    "* Outliers: Significant outliers are present in the transaction amounts (amt), particularly for high-value transactions. These should be addressed in preprocessing to prevent model skew and improve insights.\n",
    "* Spending-Amount Relationship: High-spending customers tend to have larger transaction amounts compared to low-spending customers. This suggests that transaction amount is a key feature for distinguishing spending habits, making it useful for clustering customers into high and low spenders.\n",
    "* Data Distribution: Most transaction values are clustered below 5000, with very few high-value transactions, which may necessitate scaling or transformation.\n",
    "* Feature Preprocessing: Transaction amount (amt) would benefit from scaling or transformation (e.g., log transformation) to reduce skewness for modeling."
   ]
  },
  {
   "cell_type": "markdown",
   "metadata": {
    "cell_id": "be56ff1fba7942d2b7cb1694e8a557b6",
    "color": "red",
    "deepnote_cell_type": "text-cell-callout",
    "formattedRanges": []
   },
   "source": [
    "> Issues found: \n",
    "* High Variability in Transaction Amount: A high standard deviation suggests a wide spread in transaction values, which may introduce challenges when modeling without proper preprocessing.\n",
    "* Influence of Outliers: Outliers in transaction amounts could impact data analysis and model performance, potentially leading to misclassification without appropriate handling."
   ]
  },
  {
   "cell_type": "markdown",
   "metadata": {
    "cell_id": "8ff2c81279394533b748b3abca0ec831",
    "deepnote_cell_type": "markdown"
   },
   "source": [
    "#### B.3.b Feature \"category\""
   ]
  },
  {
   "cell_type": "code",
   "execution_count": 107,
   "metadata": {
    "allow_embed": false,
    "cell_id": "d077d5c8cfab4d01940a581e1b1143ba",
    "deepnote_cell_type": "code",
    "id": "vA52cCK8hez3"
   },
   "outputs": [
    {
     "data": {
      "text/plain": [
       "count          232877\n",
       "unique             14\n",
       "top       grocery_pos\n",
       "freq            24039\n",
       "Name: category, dtype: object"
      ]
     },
     "execution_count": 107,
     "metadata": {},
     "output_type": "execute_result"
    }
   ],
   "source": [
    "# Display the summary statistics\n",
    "df_male['category'].describe()"
   ]
  },
  {
   "cell_type": "markdown",
   "metadata": {
    "cell_id": "4b13c7d892fc49a4b7dc89ae782fae87",
    "deepnote_cell_type": "text-cell-callout",
    "formattedRanges": []
   },
   "source": [
    "> Insights: \n",
    "* Unique Categories: There are 14 unique transaction categories in the dataset, indicating a diverse set of transaction types.\n",
    "* Most Common Category: The grocery_pos (Point of Sale) category is the most frequent, appearing 24,039 times, suggesting that grocery-related transactions are a major component of this dataset.\n",
    "* Transaction Distribution: The high frequency of certain categories, like grocery_pos, could imply potential spending patterns or trends in the dataset, which may be useful for targeted analysis in customer behavior."
   ]
  },
  {
   "cell_type": "code",
   "execution_count": 108,
   "metadata": {},
   "outputs": [
    {
     "data": {
      "text/plain": [
       "category\n",
       "grocery_pos       24039\n",
       "home              23566\n",
       "gas_transport     23189\n",
       "shopping_pos      19833\n",
       "food_dining       17383\n",
       "entertainment     17343\n",
       "kids_pets         17277\n",
       "misc_pos          15903\n",
       "shopping_net      15771\n",
       "health_fitness    15744\n",
       "grocery_net       12594\n",
       "personal_care     11522\n",
       "misc_net          11464\n",
       "travel             7249\n",
       "Name: count, dtype: int64"
      ]
     },
     "execution_count": 108,
     "metadata": {},
     "output_type": "execute_result"
    }
   ],
   "source": [
    "# Display the unique values and its count\n",
    "df_male['category'].value_counts()\n"
   ]
  },
  {
   "cell_type": "code",
   "execution_count": 109,
   "metadata": {
    "allow_embed": false,
    "cell_id": "ddd8bb542c304d0ca91467d7c27d767d",
    "deepnote_cell_type": "code",
    "id": "3iFw1jLzhez3"
   },
   "outputs": [
    {
     "data": {
      "text/plain": [
       "Text(0.5, 1.0, 'Transaction Count by Category (Descending Order)')"
      ]
     },
     "execution_count": 109,
     "metadata": {},
     "output_type": "execute_result"
    },
    {
     "data": {
      "image/png": "[encoded data removed]",
      "text/plain": [
       "<Figure size 1000x600 with 1 Axes>"
      ]
     },
     "metadata": {},
     "output_type": "display_data"
    }
   ],
   "source": [
    "# Sort categories by frequency\n",
    "category_order = df_male['category'].value_counts().index  # Get categories in descending order of frequency\n",
    "\n",
    "# Create a count plot for the 'category' column\n",
    "plt.figure(figsize=(10, 6))\n",
    "sns.countplot(data=df_male, y='category', palette=\"viridis\", order=category_order)  \n",
    "plt.xlabel(\"Frequency\")\n",
    "plt.ylabel(\"Category\")\n",
    "plt.title(\"Transaction Count by Category (Descending Order)\")"
   ]
  },
  {
   "cell_type": "markdown",
   "metadata": {
    "cell_id": "8928687f3489453a82017c50c1275384",
    "deepnote_cell_type": "text-cell-callout",
    "formattedRanges": []
   },
   "source": [
    "> Insights: \n",
    "* Popular Transaction Categories: The most frequent transaction categories include grocery_pos, gas_transport, and home, each with close to or over 20,000 transactions. These categories represent essential and frequent spending areas.\n",
    "* Less Frequent Categories: Categories like travel and personal_care have fewer transactions, indicating they are less common in this dataset, likely due to being discretionary expenses.\n",
    "* Behavioral Trends: The prominence of categories like grocery_pos and gas_transport suggests a focus on routine or necessity-based spending. This distribution could help in developing targeted insights on customer spending habits.\n",
    "* Potential for Spending Analysis: High-frequency categories could indicate routine spending behavior, while lower-frequency categories might highlight special or occasional spending patterns. These insights can help identify consistent versus sporadic spending habits, which is valuable for understanding customer profiles and tailoring marketing strategies accordingly."
   ]
  },
  {
   "cell_type": "code",
   "execution_count": 110,
   "metadata": {
    "allow_embed": false,
    "cell_id": "d0c28cc966464741a961435d81e7b568",
    "deepnote_cell_type": "code",
    "id": "Ud6XPqhVhez3"
   },
   "outputs": [
    {
     "name": "stdout",
     "output_type": "stream",
     "text": [
      "Average Transaction Amount by Category:\n",
      " category\n",
      "shopping_net      65.476324\n",
      "misc_net          64.042870\n",
      "grocery_pos       62.986598\n",
      "shopping_pos      61.833301\n",
      "misc_pos          61.484557\n",
      "gas_transport     61.104548\n",
      "grocery_net       60.803616\n",
      "travel            60.095249\n",
      "entertainment     59.768871\n",
      "food_dining       59.280230\n",
      "home              58.715469\n",
      "kids_pets         58.252491\n",
      "health_fitness    56.506489\n",
      "personal_care     54.122687\n",
      "Name: amt, dtype: float64\n"
     ]
    }
   ],
   "source": [
    "# Calculate average transaction amount by category in descending order\n",
    "avg_amt_by_category = df_male.groupby('category')['amt'].mean().sort_values(ascending=False)\n",
    "print(\"Average Transaction Amount by Category:\\n\", avg_amt_by_category)"
   ]
  },
  {
   "cell_type": "code",
   "execution_count": 111,
   "metadata": {},
   "outputs": [
    {
     "name": "stdout",
     "output_type": "stream",
     "text": [
      "\n",
      "Category Percentage of Total Transactions:\n",
      " category\n",
      "grocery_pos       10.32\n",
      "home              10.12\n",
      "gas_transport      9.96\n",
      "shopping_pos       8.52\n",
      "food_dining        7.46\n",
      "entertainment      7.45\n",
      "kids_pets          7.42\n",
      "misc_pos           6.83\n",
      "shopping_net       6.77\n",
      "health_fitness     6.76\n",
      "grocery_net        5.41\n",
      "personal_care      4.95\n",
      "misc_net           4.92\n",
      "travel             3.11\n",
      "Name: proportion, dtype: float64\n"
     ]
    }
   ],
   "source": [
    "# Calculate percentage of each category in the dataset\n",
    "category_percentage = (df_male['category'].value_counts(normalize=True) * 100).round(2)\n",
    "print(\"\\nCategory Percentage of Total Transactions:\\n\", category_percentage)"
   ]
  },
  {
   "cell_type": "markdown",
   "metadata": {
    "cell_id": "27d2277dda764e0e868fad9aa995e3d4",
    "deepnote_cell_type": "text-cell-callout",
    "formattedRanges": []
   },
   "source": [
    "> Insights: \n",
    "* High-Value Categories: Shopping_net and misc_net have the highest average transaction amounts, indicating occasional high-value purchases, while grocery_pos also ranks high, likely due to regular expenses.\n",
    "* Common Transaction Categories: Grocery_pos, home, and gas_transport make up the largest share of transactions (over 9% each), highlighting frequent, routine spending.\n",
    "* Low-Frequency, Lower-Value Categories: Personal_care and travel are less frequent and have lower average amounts, suggesting more infrequent spending.\n",
    "* Spending Habits Focus: Categories such as shopping_net and misc_net, which tend to have higher transaction amounts, could be prioritized when analyzing spending habits. These categories may help identify high-spending patterns and provide insights for targeted marketing strategies."
   ]
  },
  {
   "cell_type": "markdown",
   "metadata": {
    "cell_id": "69faad0b6b9245ee9ae559004fb0d067",
    "color": "yellow",
    "deepnote_cell_type": "text-cell-callout",
    "formattedRanges": []
   },
   "source": [
    "> Considerations: \n",
    "* High Spending Variability: Categories exhibit significant variability in transaction amounts and frequencies, necessitating diverse approaches for clustering analysis. This variability can help identify distinct customer segments, with different strategies required to analyze high spenders versus more consistent or sporadic spenders.\n",
    "* Frequent and Essential Spending: Categories such as grocery_pos and gas_transport dominate the dataset, reflecting routine spending patterns which could help in building customer segmentation models.\n",
    "* High-Value and Low-Frequency Categories: Categories like shopping_net and misc_net, which have higher average transaction values, may indicate high spending categories.\n",
    "* Behavioral Analysis Potential: The diversity of categories allows for detailed customer behavior analysis, aiding in personalized marketing and targeted service offerings."
   ]
  },
  {
   "cell_type": "markdown",
   "metadata": {
    "cell_id": "c0473e8cd00147188901bf1e2c5d68aa",
    "color": "red",
    "deepnote_cell_type": "text-cell-callout",
    "formattedRanges": []
   },
   "source": [
    "> Issues found: \n",
    "* Class Imbalance Across Categories: Some categories, such as travel and personal_care, have much lower transaction counts, which may lead to challenges in building balanced models for certain types of analysis.\n",
    "* Outlier Handling: High-value transactions in certain categories may skew averages and other metrics, so careful outlier detection and treatment is needed.\n",
    "* Data Interpretation: High-frequency categories may mask potential patterns, while low-frequency categories could exaggerate them, which could impact the reliability of analysis."
   ]
  },
  {
   "cell_type": "markdown",
   "metadata": {
    "cell_id": "eecac83c95b746ca9a703a68e2b2c96b",
    "deepnote_cell_type": "separator"
   },
   "source": [
    "<hr>"
   ]
  },
  {
   "cell_type": "markdown",
   "metadata": {
    "cell_id": "d26e5059e4414fa08f87cbe9b0e31009",
    "deepnote_cell_type": "markdown",
    "id": "tQgxLRrvjiJb"
   },
   "source": [
    "## C. Data Cleaning\n"
   ]
  },
  {
   "cell_type": "markdown",
   "metadata": {
    "allow_embed": false,
    "cell_id": "779367441ff743889bd92f4f0f80b009",
    "deepnote_cell_type": "input-textarea",
    "deepnote_to_be_reexecuted": false,
    "deepnote_variable_name": "data_cleaning_executive_summary",
    "deepnote_variable_value": "<fill_this>",
    "execution_millis": 60,
    "execution_start": 1719268469464,
    "source_hash": null
   },
   "source": [
    "data_cleaning_executive_summary:\n",
    "\n",
    "The data cleaning process involved addressing potential issues with missing values, duplicates, and outliers to ensure data quality and model reliability.\n",
    "\n",
    "Key Actions:\n",
    "\n",
    "* Missing Values: The dataset contains no missing values, ensuring completeness and reliability for analysis.\n",
    "* Duplicate Values: A check for duplicates confirmed no duplicate entries, preserving data integrity and preventing over-representation of any transaction.\n",
    "* Outliers: Log transformation was applied to the amt column to reduce skewness without removing high-value transactions. This approach brings extreme values closer to the mean, improving balance and interpretability for analysis and modeling.\n",
    "\n",
    "The data is now clean and consistent, ready for feature engineering and modeling steps."
   ]
  },
  {
   "cell_type": "markdown",
   "metadata": {
    "cell_id": "ef7f288edb0b49d1ba6ea666c489e677",
    "deepnote_cell_type": "separator"
   },
   "source": [
    "<hr>"
   ]
  },
  {
   "cell_type": "markdown",
   "metadata": {
    "cell_id": "05e4a68357564fd5b32368b95b81c929",
    "deepnote_cell_type": "markdown"
   },
   "source": [
    "### C.1 Fixing \"Missing values\""
   ]
  },
  {
   "cell_type": "markdown",
   "metadata": {
    "cell_id": "0bc0ed68866d456fafcc272132515675",
    "color": "green",
    "deepnote_cell_type": "text-cell-callout",
    "formattedRanges": []
   },
   "source": [
    "> Rationale: \n",
    "* Missing values can lead to inaccuracies in data analysis and model predictions.\n",
    "* To ensure a complete dataset, missing values need to be handled either by imputation (filling with mean, median, or mode) or by removing the rows/columns with significant amounts of missing data.\n",
    "* This helps improve data quality and ensures that model performance is not biased due to missing information."
   ]
  },
  {
   "cell_type": "code",
   "execution_count": 112,
   "metadata": {},
   "outputs": [
    {
     "data": {
      "text/plain": [
       "cc_num        0\n",
       "acct_num      0\n",
       "trans_num     0\n",
       "unix_time     0\n",
       "category      0\n",
       "amt           0\n",
       "is_fraud      0\n",
       "merchant      0\n",
       "merch_lat     0\n",
       "merch_long    0\n",
       "dtype: int64"
      ]
     },
     "execution_count": 112,
     "metadata": {},
     "output_type": "execute_result"
    }
   ],
   "source": [
    "# Checking for missing values\n",
    "df_male.isna().sum()"
   ]
  },
  {
   "cell_type": "markdown",
   "metadata": {
    "cell_id": "5b9ab4c5f3a34cffa1a580c9999b02f6",
    "color": "blue",
    "deepnote_cell_type": "text-cell-callout",
    "formattedRanges": []
   },
   "source": [
    "> Results: \n",
    "\n",
    "The dataset has no missing data, ensuring completeness and reliability for further analysis."
   ]
  },
  {
   "cell_type": "markdown",
   "metadata": {
    "cell_id": "e87991d42e304a2e86908c83d02fe590",
    "deepnote_cell_type": "separator"
   },
   "source": [
    "<hr>"
   ]
  },
  {
   "cell_type": "markdown",
   "metadata": {
    "cell_id": "8e057e55636b413cbec75f624d95bfbd",
    "deepnote_cell_type": "markdown"
   },
   "source": [
    "### C.2 Fixing \"Duplicate values\""
   ]
  },
  {
   "cell_type": "markdown",
   "metadata": {
    "cell_id": "d232936b60674ca4b8721b04421ec4e6",
    "color": "green",
    "deepnote_cell_type": "text-cell-callout",
    "formattedRanges": []
   },
   "source": [
    "> Rationale: \n",
    "* Duplicate values can skew the analysis by over-representing certain data points.\n",
    "* Removing duplicates ensures that each observation is unique, providing an accurate and balanced dataset for analysis or model training."
   ]
  },
  {
   "cell_type": "code",
   "execution_count": 113,
   "metadata": {
    "allow_embed": false,
    "cell_id": "b8390c0472c14171a2b54672e99046bc",
    "deepnote_cell_type": "code",
    "id": "iaR8p5n8hez4"
   },
   "outputs": [
    {
     "data": {
      "text/plain": [
       "0"
      ]
     },
     "execution_count": 113,
     "metadata": {},
     "output_type": "execute_result"
    }
   ],
   "source": [
    "# Checking for duplicate values\n",
    "df_male.duplicated().sum()"
   ]
  },
  {
   "cell_type": "markdown",
   "metadata": {
    "cell_id": "ed8b1d4590bd4684bc0546bad44219c0",
    "color": "blue",
    "deepnote_cell_type": "text-cell-callout",
    "formattedRanges": []
   },
   "source": [
    "> Results: \n",
    "\n",
    "No duplicate values were found in the dataset, ensuring data integrity and preventing biased results in model development."
   ]
  },
  {
   "cell_type": "markdown",
   "metadata": {
    "cell_id": "f7821d3266644e11b9d91ec5952c60cc",
    "deepnote_cell_type": "separator"
   },
   "source": [
    "<hr>"
   ]
  },
  {
   "cell_type": "markdown",
   "metadata": {
    "cell_id": "338ed60638424e40941258e049396dee",
    "deepnote_cell_type": "markdown"
   },
   "source": [
    "### C.3 Fixing \"Outliers\""
   ]
  },
  {
   "cell_type": "markdown",
   "metadata": {
    "cell_id": "547c911ee20743ffb5e4aa8086bdb5b1",
    "color": "green",
    "deepnote_cell_type": "text-cell-callout",
    "formattedRanges": []
   },
   "source": [
    "> Rationale:  \n",
    "* Log transformation reduces skewness in amt, bringing extreme values closer to the mean without removing data, which helps preserve important information for analysis."
   ]
  },
  {
   "cell_type": "code",
   "execution_count": 114,
   "metadata": {
    "allow_embed": false,
    "cell_id": "0a07f8fb92c24491ada12688154cab3e",
    "deepnote_cell_type": "code",
    "id": "iaR8p5n8hez4"
   },
   "outputs": [],
   "source": [
    "# Apply log transformation (adding 1 to handle zero values if any)\n",
    "df_male['amt_log'] = np.log1p(df_male['amt'])"
   ]
  },
  {
   "cell_type": "markdown",
   "metadata": {
    "cell_id": "32e407659174482789c067764ce8b934",
    "color": "blue",
    "deepnote_cell_type": "text-cell-callout",
    "formattedRanges": []
   },
   "source": [
    "> Results: \n",
    "\n",
    "The transformed amt_log is more normalized, with high-value transactions compressed, improving data balance and interpretability for modeling."
   ]
  },
  {
   "cell_type": "markdown",
   "metadata": {
    "cell_id": "28f4519dc5b64a4c959199c96fc7b160",
    "deepnote_cell_type": "separator"
   },
   "source": [
    "<hr>"
   ]
  },
  {
   "cell_type": "markdown",
   "metadata": {
    "cell_id": "07652e9a61b549a9ba962cbdd6ebd9fb",
    "deepnote_cell_type": "markdown"
   },
   "source": [
    "## D. Feature Engineering"
   ]
  },
  {
   "cell_type": "markdown",
   "metadata": {
    "allow_embed": false,
    "cell_id": "8e21e5eda1894cd0a2c73b88eb155f05",
    "deepnote_cell_type": "input-textarea",
    "deepnote_to_be_reexecuted": false,
    "deepnote_variable_name": "feature_engineering_executive_summary",
    "deepnote_variable_value": "<fill_this>",
    "execution_millis": 55,
    "execution_start": 1719267822783,
    "source_hash": null
   },
   "source": [
    "feature_engineering_executive_summary:\n",
    "\n",
    "In this feature engineering phase, several new features were developed to provide deeper insights into customer transaction behavior, enhancing the model's predictive power. The following features were created:\n",
    "* merchant_freq: This feature quantifies customer loyalty and merchant popularity by capturing the frequency of transactions with each merchant. It provides valuable insights for customer segmentation.\n",
    "* total_amt: By aggregating total spending per customer, this feature supports the identification of high and low spenders, facilitating segmentation for more targeted strategies.\n",
    "* trans_count: This feature captures the total number of transactions per customer, offering insights into customer engagement frequency and aiding in the segmentation of high-frequency versus low-frequency customers.\n",
    "\n",
    "Together, these features enable more effective analysis of transactional patterns, customer behaviors, and enhance clustering and segmentation strategies."
   ]
  },
  {
   "cell_type": "markdown",
   "metadata": {
    "cell_id": "f4018bc2dfb34463b2c6f408a9305e5f",
    "deepnote_cell_type": "separator"
   },
   "source": [
    "<hr>"
   ]
  },
  {
   "cell_type": "markdown",
   "metadata": {
    "cell_id": "93b0fbbe68914d97b3aa0ef5319d45f2",
    "deepnote_cell_type": "separator"
   },
   "source": [
    "<hr>"
   ]
  },
  {
   "cell_type": "markdown",
   "metadata": {
    "cell_id": "f1115b6b60144a019c731c5d7d42be11",
    "deepnote_cell_type": "markdown"
   },
   "source": [
    "### D.1 New Feature \"merchant_freq\""
   ]
  },
  {
   "cell_type": "markdown",
   "metadata": {
    "cell_id": "5857f89dbdf84d3a961fe7c19f57b765",
    "color": "green",
    "deepnote_cell_type": "text-cell-callout",
    "formattedRanges": []
   },
   "source": [
    "> Rationale:\n",
    "* Transaction Insights: Understanding transaction frequency helps analyze customer loyalty and preferences.\n",
    "* Customer Segmentation: Tailors marketing strategies based on merchant popularity among accounts."
   ]
  },
  {
   "cell_type": "code",
   "execution_count": 115,
   "metadata": {},
   "outputs": [],
   "source": [
    "# Create new feature merchant_freq to capture customer loyalty and merchant popularity \n",
    "df_male['merchant_freq'] = df_male.groupby(['acct_num', 'merchant'])['trans_num'].transform('count')"
   ]
  },
  {
   "cell_type": "markdown",
   "metadata": {
    "cell_id": "15417b5b0949445792834d61f012d02b",
    "color": "blue",
    "deepnote_cell_type": "text-cell-callout",
    "formattedRanges": []
   },
   "source": [
    "> Results: \n",
    "* Created the merchant_freq feature to quantify how many transactions each account has with each merchant.\n",
    "* Enables analysis of customer loyalty and popular merchants"
   ]
  },
  {
   "cell_type": "markdown",
   "metadata": {
    "cell_id": "c3b6d7982a134911867c185984b63407",
    "deepnote_cell_type": "separator"
   },
   "source": [
    "<hr>"
   ]
  },
  {
   "cell_type": "markdown",
   "metadata": {
    "cell_id": "c72532afadc4440385809cdb5ebddd24",
    "deepnote_cell_type": "markdown"
   },
   "source": [
    "### D.2 New Feature \"total_amt\""
   ]
  },
  {
   "cell_type": "markdown",
   "metadata": {
    "cell_id": "3c30a9b0c4b44f5db0c86079ab20faa4",
    "color": "green",
    "deepnote_cell_type": "text-cell-callout",
    "formattedRanges": []
   },
   "source": [
    "> Rationale: \n",
    "* Aggregates customer spending, enabling segmentation into high and low spenders. Enhances clustering by providing a clear measure of total financial activity."
   ]
  },
  {
   "cell_type": "code",
   "execution_count": 116,
   "metadata": {
    "allow_embed": false,
    "cell_id": "57361b1e1a164d8fbf731a0640e14aa1",
    "deepnote_cell_type": "code",
    "id": "iaR8p5n8hez4"
   },
   "outputs": [],
   "source": [
    "# Using transform to create the total spending feature\n",
    "df_male['total_amt'] = df_male.groupby('acct_num')['amt'].transform('sum')"
   ]
  },
  {
   "cell_type": "markdown",
   "metadata": {
    "cell_id": "75de8fb66a854406a60bca815c88663a",
    "color": "blue",
    "deepnote_cell_type": "text-cell-callout",
    "formattedRanges": []
   },
   "source": [
    "> Results:\n",
    "\n",
    "Created total_amt feature to represent total spending per customer, supporting targeted segmentation and improved clustering."
   ]
  },
  {
   "cell_type": "markdown",
   "metadata": {
    "cell_id": "72fc1d164468462389a0a436f4a20fd2",
    "deepnote_cell_type": "separator"
   },
   "source": [
    "<hr>"
   ]
  },
  {
   "cell_type": "markdown",
   "metadata": {
    "cell_id": "6edc67217b124615af4eb7b2eacb6b77",
    "deepnote_cell_type": "markdown"
   },
   "source": [
    "### D.3 New Feature \"trans_count\""
   ]
  },
  {
   "cell_type": "markdown",
   "metadata": {
    "cell_id": "c296bebc82874af7803b4514adad8245",
    "color": "green",
    "deepnote_cell_type": "text-cell-callout",
    "formattedRanges": []
   },
   "source": [
    "> Rationale:\n",
    "* The trans_count feature captures the total number of transactions per account, offering insights into customer activity frequency.\n",
    "* Helps identify high-frequency versus low-frequency customers, aiding segmentation for targeted strategies (e.g., frequent shoppers vs. occasional customers)."
   ]
  },
  {
   "cell_type": "code",
   "execution_count": 117,
   "metadata": {
    "allow_embed": false,
    "cell_id": "ae81841e485245a0bfe7ad26d1ea08f1",
    "deepnote_cell_type": "code",
    "id": "iaR8p5n8hez4"
   },
   "outputs": [],
   "source": [
    "# Create the transaction count feature by grouping by 'cc_num' and counting the number of transactions\n",
    "df_male['trans_count'] = df_male.groupby('acct_num')['trans_num'].transform('count')"
   ]
  },
  {
   "cell_type": "markdown",
   "metadata": {
    "cell_id": "f26e9f103d344bc8aa05e488393eae21",
    "color": "blue",
    "deepnote_cell_type": "text-cell-callout",
    "formattedRanges": []
   },
   "source": [
    "> Results: \n",
    "\n",
    "Created the trans_count feature to represent the total number of transactions for each account, supporting clustering based on customer engagement frequency."
   ]
  },
  {
   "cell_type": "markdown",
   "metadata": {
    "cell_id": "18d4a7eb0d46445c86cf7765bbf034ed",
    "deepnote_cell_type": "separator"
   },
   "source": [
    "<hr>"
   ]
  },
  {
   "cell_type": "markdown",
   "metadata": {
    "cell_id": "0c0d8e20e55f4168b064e37d3024b0aa",
    "deepnote_cell_type": "separator"
   },
   "source": [
    "<hr>"
   ]
  },
  {
   "cell_type": "markdown",
   "metadata": {
    "cell_id": "416cf6e53ba84efbb9452943562d7390",
    "deepnote_cell_type": "markdown"
   },
   "source": [
    "## E. Save Datasets"
   ]
  },
  {
   "cell_type": "code",
   "execution_count": 118,
   "metadata": {
    "cell_id": "059d7b3ac179451abcb8a04ff7b06ed5",
    "deepnote_cell_type": "code"
   },
   "outputs": [],
   "source": [
    "# Save the dataset\n",
    "df_male.to_csv('adults_2550_male.csv', index=False)"
   ]
  },
  {
   "cell_type": "markdown",
   "metadata": {
    "cell_id": "1d45e0bf30844e2bbdb431c8ed643b3b",
    "deepnote_cell_type": "separator"
   },
   "source": [
    "<hr>"
   ]
  },
  {
   "cell_type": "markdown",
   "metadata": {
    "cell_id": "a9b9f9bf8c1c4b1d90e148b23fc05684",
    "deepnote_cell_type": "separator"
   },
   "source": [
    "<hr>"
   ]
  },
  {
   "cell_type": "markdown",
   "metadata": {
    "created_in_deepnote_cell": true,
    "deepnote_cell_type": "markdown"
   },
   "source": [
    "<a style='text-decoration:none;line-height:16px;display:flex;color:#5B5B62;padding:10px;justify-content:end;' href='https://deepnote.com?utm_source=created-in-deepnote-cell&projectId=2a425463-7d70-48a4-ba8a-cc6d45d6eab2' target=\"_blank\">\n",
    "<img alt='Created in deepnote.com' style='display:inline;max-height:16px;margin:0px;margin-right:7.5px;' src='data:image/svg+xml;base64,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' > </img>\n",
    "Created in <span style='font-weight:600;margin-left:4px;'>Deepnote</span></a>"
   ]
  }
 ],
 "metadata": {
  "deepnote_execution_queue": [],
  "deepnote_notebook_id": "b3ef28522a214599b2a3b4d9d9ca6d76",
  "deepnote_persisted_session": {
   "createdAt": "2024-06-24T23:16:05.079Z"
  },
  "kernelspec": {
   "display_name": "base",
   "language": "python",
   "name": "python3"
  },
  "language_info": {
   "codemirror_mode": {
    "name": "ipython",
    "version": 3
   },
   "file_extension": ".py",
   "mimetype": "text/x-python",
   "name": "python",
   "nbconvert_exporter": "python",
   "pygments_lexer": "ipython3",
   "version": "3.11.7"
  }
 },
 "nbformat": 4,
 "nbformat_minor": 0
}
